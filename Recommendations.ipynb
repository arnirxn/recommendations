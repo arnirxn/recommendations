{
 "cells": [
  {
   "cell_type": "markdown",
   "source": [
    "# Recommendations with IBM\n",
    "\n",
    "In this notebook, you will be putting your recommendation skills to use on real data from the IBM Watson Studio platform.\n",
    "\n",
    "\n",
    "You may either submit your notebook through the workspace here, or you may work from your local machine and submit through the next page.  Either way assure that your code passes the project [RUBRIC](https://review.udacity.com/#!/rubrics/2322/view).  **Please save regularly.**\n",
    "\n",
    "By following the table of contents, you will build out a number of different methods for making recommendations that can be used for different situations.\n",
    "\n",
    "\n",
    "## Table of Contents\n",
    "\n",
    "I. [Exploratory Data Analysis](#Exploratory-Data-Analysis)<br>\n",
    "II. [Rank Based Recommendations](#Rank)<br>\n",
    "III. [User-User Based Collaborative Filtering](#User-User)<br>\n",
    "IV. [Content Based Recommendations (EXTRA - NOT REQUIRED)](#Content-Recs)<br>\n",
    "V. [Matrix Factorization](#Matrix-Fact)<br>\n",
    "VI. [Extras & Concluding](#conclusions)\n",
    "\n",
    "At the end of the notebook, you will find directions for how to submit your work.  Let's get started by importing the necessary libraries and reading in the data."
   ],
   "metadata": {
    "collapsed": false
   }
  },
  {
   "cell_type": "code",
   "execution_count": 1,
   "outputs": [
    {
     "data": {
      "text/plain": "   article_id                                              title  \\\n0      1430.0  using pixiedust for fast, flexible, and easier...   \n1      1314.0       healthcare python streaming application demo   \n2      1429.0         use deep learning for image classification   \n3      1338.0          ml optimization using cognitive assistant   \n4      1276.0          deploy your python model as a restful api   \n\n                                      email  \n0  ef5f11f77ba020cd36e1105a00ab868bbdbf7fe7  \n1  083cbdfa93c8444beaa4c5f5e0f5f9198e4f9e0b  \n2  b96a4f2e92d8572034b1e9b28f9ac673765cd074  \n3  06485706b34a5c9bf2a0ecdac41daf7e7654ceb7  \n4  f01220c46fc92c6e6b161b1849de11faacd7ccb2  ",
      "text/html": "<div>\n<style scoped>\n    .dataframe tbody tr th:only-of-type {\n        vertical-align: middle;\n    }\n\n    .dataframe tbody tr th {\n        vertical-align: top;\n    }\n\n    .dataframe thead th {\n        text-align: right;\n    }\n</style>\n<table border=\"1\" class=\"dataframe\">\n  <thead>\n    <tr style=\"text-align: right;\">\n      <th></th>\n      <th>article_id</th>\n      <th>title</th>\n      <th>email</th>\n    </tr>\n  </thead>\n  <tbody>\n    <tr>\n      <th>0</th>\n      <td>1430.0</td>\n      <td>using pixiedust for fast, flexible, and easier...</td>\n      <td>ef5f11f77ba020cd36e1105a00ab868bbdbf7fe7</td>\n    </tr>\n    <tr>\n      <th>1</th>\n      <td>1314.0</td>\n      <td>healthcare python streaming application demo</td>\n      <td>083cbdfa93c8444beaa4c5f5e0f5f9198e4f9e0b</td>\n    </tr>\n    <tr>\n      <th>2</th>\n      <td>1429.0</td>\n      <td>use deep learning for image classification</td>\n      <td>b96a4f2e92d8572034b1e9b28f9ac673765cd074</td>\n    </tr>\n    <tr>\n      <th>3</th>\n      <td>1338.0</td>\n      <td>ml optimization using cognitive assistant</td>\n      <td>06485706b34a5c9bf2a0ecdac41daf7e7654ceb7</td>\n    </tr>\n    <tr>\n      <th>4</th>\n      <td>1276.0</td>\n      <td>deploy your python model as a restful api</td>\n      <td>f01220c46fc92c6e6b161b1849de11faacd7ccb2</td>\n    </tr>\n  </tbody>\n</table>\n</div>"
     },
     "execution_count": 1,
     "metadata": {},
     "output_type": "execute_result"
    }
   ],
   "source": [
    "import pandas as pd\n",
    "import numpy as np\n",
    "import matplotlib.pyplot as plt\n",
    "import project_tests as t\n",
    "import pickle\n",
    "\n",
    "%matplotlib inline\n",
    "\n",
    "df = pd.read_csv('data/user-item-interactions.csv')\n",
    "df_content = pd.read_csv('data/articles_community.csv')\n",
    "del df['Unnamed: 0']\n",
    "del df_content['Unnamed: 0']\n",
    "\n",
    "# Show df to get an idea of the data\n",
    "df.head()"
   ],
   "metadata": {
    "collapsed": false
   }
  },
  {
   "cell_type": "code",
   "execution_count": 2,
   "outputs": [
    {
     "data": {
      "text/plain": "(45993, 3)"
     },
     "execution_count": 2,
     "metadata": {},
     "output_type": "execute_result"
    }
   ],
   "source": [
    "df.shape"
   ],
   "metadata": {
    "collapsed": false
   }
  },
  {
   "cell_type": "code",
   "execution_count": 3,
   "outputs": [
    {
     "data": {
      "text/plain": "                                            doc_body  \\\n0  Skip navigation Sign in SearchLoading...\\r\\n\\r...   \n1  No Free Hunch Navigation * kaggle.com\\r\\n\\r\\n ...   \n2  ☰ * Login\\r\\n * Sign Up\\r\\n\\r\\n * Learning Pat...   \n3  DATALAYER: HIGH THROUGHPUT, LOW LATENCY AT SCA...   \n4  Skip navigation Sign in SearchLoading...\\r\\n\\r...   \n\n                                     doc_description  \\\n0  Detect bad readings in real time using Python ...   \n1  See the forest, see the trees. Here lies the c...   \n2  Here’s this week’s news in Data Science and Bi...   \n3  Learn how distributed DBs solve the problem of...   \n4  This video demonstrates the power of IBM DataS...   \n\n                                       doc_full_name doc_status  article_id  \n0  Detect Malfunctioning IoT Sensors with Streami...       Live           0  \n1  Communicating data science: A guide to present...       Live           1  \n2         This Week in Data Science (April 18, 2017)       Live           2  \n3  DataLayer Conference: Boost the performance of...       Live           3  \n4      Analyze NY Restaurant data using Spark in DSX       Live           4  ",
      "text/html": "<div>\n<style scoped>\n    .dataframe tbody tr th:only-of-type {\n        vertical-align: middle;\n    }\n\n    .dataframe tbody tr th {\n        vertical-align: top;\n    }\n\n    .dataframe thead th {\n        text-align: right;\n    }\n</style>\n<table border=\"1\" class=\"dataframe\">\n  <thead>\n    <tr style=\"text-align: right;\">\n      <th></th>\n      <th>doc_body</th>\n      <th>doc_description</th>\n      <th>doc_full_name</th>\n      <th>doc_status</th>\n      <th>article_id</th>\n    </tr>\n  </thead>\n  <tbody>\n    <tr>\n      <th>0</th>\n      <td>Skip navigation Sign in SearchLoading...\\r\\n\\r...</td>\n      <td>Detect bad readings in real time using Python ...</td>\n      <td>Detect Malfunctioning IoT Sensors with Streami...</td>\n      <td>Live</td>\n      <td>0</td>\n    </tr>\n    <tr>\n      <th>1</th>\n      <td>No Free Hunch Navigation * kaggle.com\\r\\n\\r\\n ...</td>\n      <td>See the forest, see the trees. Here lies the c...</td>\n      <td>Communicating data science: A guide to present...</td>\n      <td>Live</td>\n      <td>1</td>\n    </tr>\n    <tr>\n      <th>2</th>\n      <td>☰ * Login\\r\\n * Sign Up\\r\\n\\r\\n * Learning Pat...</td>\n      <td>Here’s this week’s news in Data Science and Bi...</td>\n      <td>This Week in Data Science (April 18, 2017)</td>\n      <td>Live</td>\n      <td>2</td>\n    </tr>\n    <tr>\n      <th>3</th>\n      <td>DATALAYER: HIGH THROUGHPUT, LOW LATENCY AT SCA...</td>\n      <td>Learn how distributed DBs solve the problem of...</td>\n      <td>DataLayer Conference: Boost the performance of...</td>\n      <td>Live</td>\n      <td>3</td>\n    </tr>\n    <tr>\n      <th>4</th>\n      <td>Skip navigation Sign in SearchLoading...\\r\\n\\r...</td>\n      <td>This video demonstrates the power of IBM DataS...</td>\n      <td>Analyze NY Restaurant data using Spark in DSX</td>\n      <td>Live</td>\n      <td>4</td>\n    </tr>\n  </tbody>\n</table>\n</div>"
     },
     "execution_count": 3,
     "metadata": {},
     "output_type": "execute_result"
    }
   ],
   "source": [
    "# Show df_content to get an idea of the data\n",
    "df_content.head()"
   ],
   "metadata": {
    "collapsed": false
   }
  },
  {
   "cell_type": "code",
   "execution_count": 4,
   "outputs": [
    {
     "data": {
      "text/plain": "(1056, 5)"
     },
     "execution_count": 4,
     "metadata": {},
     "output_type": "execute_result"
    }
   ],
   "source": [
    "df_content.shape"
   ],
   "metadata": {
    "collapsed": false
   }
  },
  {
   "cell_type": "code",
   "execution_count": 5,
   "outputs": [
    {
     "name": "stdout",
     "output_type": "stream",
     "text": [
      "Column article_id has 714 unique values\n",
      "Column title has 714 unique values\n",
      "Column email has 5149 unique values\n"
     ]
    }
   ],
   "source": [
    "for c in df.columns:\n",
    "    print(f\"Column {c} has {len(df[c].unique())} unique values\")"
   ],
   "metadata": {
    "collapsed": false
   }
  },
  {
   "cell_type": "code",
   "execution_count": 6,
   "outputs": [
    {
     "name": "stdout",
     "output_type": "stream",
     "text": [
      "Column doc_body has 1037 unique values\n",
      "Column doc_description has 1023 unique values\n",
      "Column doc_full_name has 1051 unique values\n",
      "Column doc_status has 1 unique values\n",
      "Column article_id has 1051 unique values\n"
     ]
    }
   ],
   "source": [
    "for c in df_content.columns:\n",
    "    print(f\"Column {c} has {len(df_content[c].unique())} unique values\")"
   ],
   "metadata": {
    "collapsed": false
   }
  },
  {
   "cell_type": "markdown",
   "source": [
    "### <a class=\"anchor\" id=\"Exploratory-Data-Analysis\">Part I : Exploratory Data Analysis</a>\n",
    "\n",
    "Use the dictionary and cells below to provide some insight into the descriptive statistics of the data.\n",
    "\n",
    "`1.` What is the distribution of how many articles a user interacts with in the dataset?  Provide a visual and descriptive statistics to assist with giving a look at the number of times each user interacts with an article."
   ],
   "metadata": {
    "collapsed": false
   }
  },
  {
   "cell_type": "code",
   "execution_count": 7,
   "outputs": [
    {
     "data": {
      "text/plain": "email\n2b6c0f514c2f2b04ad3c4583407dccd0810469ee    364\n77959baaa9895a7e2bdc9297f8b27c1b6f2cb52a    363\n2f5c7feae533ce046f2cb16fb3a29fe00528ed66    170\na37adec71b667b297ed2440a9ff7dad427c7ac85    169\n8510a5010a5d4c89f5b07baac6de80cd12cfaf93    160\n                                           ... \n1b520f0f65c0aee52d4235f92fb2de58fa966635      1\n7a67e4a2902a20062e1f2a6835b6e099b34b4f6c      1\nc4b7e639e91b1d18e5b9c000f0ad3354888fcdde      1\n7a7fb282789944665ffc1cddee5ddbdbd7ca9f64      1\n9655144418d25a0e074616840447e6e5dbef0069      1\nName: article_id, Length: 5148, dtype: int64"
     },
     "execution_count": 7,
     "metadata": {},
     "output_type": "execute_result"
    }
   ],
   "source": [
    "interactions_per_email = df.groupby(\"email\")[\"article_id\"].count().sort_values(ascending=False)\n",
    "interactions_per_email"
   ],
   "metadata": {
    "collapsed": false
   }
  },
  {
   "cell_type": "code",
   "execution_count": 8,
   "outputs": [
    {
     "data": {
      "text/plain": "<Figure size 640x480 with 1 Axes>",
      "image/png": "[encoded data removed]"
     },
     "metadata": {},
     "output_type": "display_data"
    }
   ],
   "source": [
    "plt.title('Histogram of interactions users have with articles')\n",
    "plt.hist(interactions_per_email)\n",
    "plt.show()"
   ],
   "metadata": {
    "collapsed": false
   }
  },
  {
   "cell_type": "code",
   "execution_count": 9,
   "outputs": [
    {
     "data": {
      "text/plain": "<Figure size 640x480 with 1 Axes>",
      "image/png": "[encoded data removed]"
     },
     "metadata": {},
     "output_type": "display_data"
    }
   ],
   "source": [
    "plt.title('Boxplot of interactions users have with articles')\n",
    "plt.boxplot(interactions_per_email, meanline=True)\n",
    "plt.show()"
   ],
   "metadata": {
    "collapsed": false
   }
  },
  {
   "cell_type": "code",
   "execution_count": 10,
   "outputs": [
    {
     "data": {
      "text/plain": "email\n2b6c0f514c2f2b04ad3c4583407dccd0810469ee    135\n77959baaa9895a7e2bdc9297f8b27c1b6f2cb52a    135\nd9032ff68d0fd45dfd18c0c5f7324619bb55362c    101\nc60bb0a50c324dad0bffd8809d121246baef372b    100\na37adec71b667b297ed2440a9ff7dad427c7ac85     97\n                                           ... \n1ab433bafebd7f8b6322c05def9b41e0f029ea83      1\n8283f83275dbd8cc8a2dd4d35a25f4a86310afbd      1\nc1ad3e68598e288e5df72275ba03444ee218aab8      1\n1ab7c183ceb155cab3b9dcc92f36039b025cd86e      1\n262b5095f21d3addbff0ab212a968a467cc7592b      1\nName: article_id, Length: 5148, dtype: int64"
     },
     "execution_count": 10,
     "metadata": {},
     "output_type": "execute_result"
    }
   ],
   "source": [
    "articles_per_email = df.groupby(\"email\")[\"article_id\"].nunique().sort_values(ascending=False)\n",
    "articles_per_email"
   ],
   "metadata": {
    "collapsed": false
   }
  },
  {
   "cell_type": "code",
   "execution_count": 11,
   "outputs": [
    {
     "data": {
      "text/plain": "<Figure size 640x480 with 1 Axes>",
      "image/png": "[encoded data removed]"
     },
     "metadata": {},
     "output_type": "display_data"
    }
   ],
   "source": [
    "plt.title('Number of unique articles users interact with')\n",
    "plt.hist(articles_per_email)\n",
    "plt.show()"
   ],
   "metadata": {
    "collapsed": false
   }
  },
  {
   "cell_type": "code",
   "execution_count": 12,
   "outputs": [
    {
     "data": {
      "text/plain": "<Figure size 640x480 with 1 Axes>",
      "image/png": "[encoded data removed]"
     },
     "metadata": {},
     "output_type": "display_data"
    }
   ],
   "source": [
    "plt.title('Boxplot of unique articles users interact with')\n",
    "plt.boxplot(articles_per_email, meanline=True)\n",
    "plt.show()"
   ],
   "metadata": {
    "collapsed": false
   }
  },
  {
   "cell_type": "code",
   "execution_count": 13,
   "outputs": [
    {
     "name": "stdout",
     "output_type": "stream",
     "text": [
      "50% of individuals interact with 3.0 number of articles or fewer.\n",
      "The maximum number of user-article interactions by any 1 user is 364.\n"
     ]
    }
   ],
   "source": [
    "# Fill in the median and maximum number of user_article interactios below\n",
    "\n",
    "median_val = articles_per_email.median()# 50% of individuals interact with ____ number of articles or fewer.\n",
    "max_views_by_user = interactions_per_email.max() # The maximum number of user-article interactions by any 1 user is ______.\n",
    "\n",
    "print(f\"50% of individuals interact with {median_val} number of articles or fewer.\")\n",
    "print(f\"The maximum number of user-article interactions by any 1 user is {max_views_by_user}.\")"
   ],
   "metadata": {
    "collapsed": false
   }
  },
  {
   "cell_type": "markdown",
   "source": [
    "`2.` Explore and remove duplicate articles from the **df_content** dataframe."
   ],
   "metadata": {
    "collapsed": false
   }
  },
  {
   "cell_type": "code",
   "execution_count": 14,
   "outputs": [],
   "source": [
    "# Find and explore duplicate articles"
   ],
   "metadata": {
    "collapsed": false
   }
  },
  {
   "cell_type": "code",
   "execution_count": 15,
   "outputs": [
    {
     "name": "stdout",
     "output_type": "stream",
     "text": [
      "Number of duplicated values in column doc_body: 19\n",
      "Number of duplicated values in column doc_description: 33\n",
      "Number of duplicated values in column doc_full_name: 5\n",
      "Number of duplicated values in column doc_status: 1055\n",
      "Number of duplicated values in column article_id: 5\n",
      "Number of values with the same article_id and doc_full_name: 5\n",
      "Number of values with the same article_id, doc_full_name and doc_description: 2\n",
      "Number of values with the same article_id, doc_full_name and doc_body: 0\n"
     ]
    }
   ],
   "source": [
    "for c in df_content.columns:\n",
    "    print(f\"Number of duplicated values in column {c}: {df_content.duplicated(c).sum()}\")\n",
    "\n",
    "print(f\"Number of values with the same article_id and doc_full_name: {df_content.duplicated(['article_id', 'doc_full_name']).sum()}\")\n",
    "print(f\"Number of values with the same article_id, doc_full_name and doc_description: {df_content.duplicated(['article_id', 'doc_full_name', 'doc_description']).sum()}\")\n",
    "print(f\"Number of values with the same article_id, doc_full_name and doc_body: {df_content.duplicated(['article_id', 'doc_full_name', 'doc_body']).sum()}\")"
   ],
   "metadata": {
    "collapsed": false
   }
  },
  {
   "cell_type": "code",
   "execution_count": 16,
   "outputs": [
    {
     "data": {
      "text/plain": "                                               doc_body  \\\n244   * Select a country/region: United States\\r\\n\\r...   \n474   * Select a country/region: United States\\r\\n\\r...   \n564                                         Cheat sheet   \n678                                         Cheat sheet   \n892   Need to report the video?\\r\\n\\r\\nSign in to re...   \n997   Need to report the video?\\r\\n\\r\\nSign in to re...   \n33    Working Vis * \\r\\n * \\r\\n\\r\\n * Home\\r\\n * Abo...   \n369   Working Vis * \\r\\n * \\r\\n\\r\\n * Home\\r\\n * Abo...   \n885   Working Vis * \\r\\n * \\r\\n\\r\\n * Home\\r\\n * Abo...   \n1020  Working Vis * \\r\\n * \\r\\n\\r\\n * Home\\r\\n * Abo...   \n206                                                 NaN   \n276                                                 NaN   \n484                                                 NaN   \n508                                                 NaN   \n540                                                 NaN   \n638                                                 NaN   \n667                                                 NaN   \n706                                                 NaN   \n842                                                 NaN   \n876                                                 NaN   \n889                                                 NaN   \n947                                                 NaN   \n1037                                                NaN   \n1054                                                NaN   \n\n                                        doc_description  \\\n244   Data exploration and analysis is a repetitive,...   \n474   Machine  learning is changing not only how we ...   \n564   The RStudio IDE is the most popular integrated...   \n678   The devtools package makes it easy to build yo...   \n892   Video tutorial showing the complete creation o...   \n997   Using Cloudant and MobileFirst services on Blu...   \n33    Analytics and visualization often go hand-in-h...   \n369   After shoveling the driveway several times and...   \n885   How to create a blog entry using Brunel in a f...   \n1020  The two main new features of Brunel 0.8 are an...   \n206   Watch how to convert XML data to CSV format to...   \n276   Love to work in Microsoft Excel? Watch how to ...   \n484   See how to evaluate and convert your DDL and S...   \n508   Watch how to generate SQL-based reports for Cl...   \n540   Need to move some data to the cloud for wareho...   \n638   See how to create a new dashDB instance and po...   \n667   See how to connect dashDB, as a source and tar...   \n706   Aginity Workbench is a free application known ...   \n842   Learn how to configure a dashDB connection in ...   \n876   See how to populate data into a table in your ...   \n889   Watch how to apply association rules using R t...   \n947   Watch how to extract and export dashDB data to...   \n1037  See how quick and easy it is to set up a dashD...   \n1054  Learn how to use IBM dashDB as data store for ...   \n\n                                          doc_full_name doc_status  article_id  \n244         Notebooks: A power tool for data scientists       Live         244  \n474             Intelligent applications - Apache Spark       Live         473  \n564                            RStudio IDE  Cheat Sheet       Live         563  \n678      Package Development with devtools  Cheat Sheet       Live         677  \n892                             Mobile App Webinar Demo       Live         889  \n997           Building a MobileFirst App on IBM Bluemix       Live         992  \n33            Using Brunel in IPython/Jupyter Notebooks       Live          33  \n369                                          Snowzilla!       Live         368  \n885                                Blogging With Brunel       Live         882  \n1020                             Enhanced Color mapping       Live        1015  \n206                           Load XML data into dashDB       Live         206  \n276                         Integrate dashDB with Excel       Live         276  \n484        Convert IBM Puredata for Analytics to dashDB       Live         483  \n508    Use dashDB with IBM Embeddable Reporting Service       Live         507  \n540                  Convert data from Oracle to dashDB       Live         539  \n638        Load JSON from Cloudant database into dashDB       Live         637  \n667              Integrate dashDB and Informatica Cloud       Live         666  \n706                Use Aginity Workbench for IBM dashDB       Live         704  \n842     Leverage dashDB in Cognos Business Intelligence       Live         839  \n876              Load data from the desktop into dashDB       Live         873  \n889   Perform market basket analysis using dashDB and R       Live         886  \n947        Extract and export dashDB data to a CSV file       Live         944  \n1037                 Get started with dashDB on Bluemix       Live        1032  \n1054                              Use dashDB with Spark       Live        1049  ",
      "text/html": "<div>\n<style scoped>\n    .dataframe tbody tr th:only-of-type {\n        vertical-align: middle;\n    }\n\n    .dataframe tbody tr th {\n        vertical-align: top;\n    }\n\n    .dataframe thead th {\n        text-align: right;\n    }\n</style>\n<table border=\"1\" class=\"dataframe\">\n  <thead>\n    <tr style=\"text-align: right;\">\n      <th></th>\n      <th>doc_body</th>\n      <th>doc_description</th>\n      <th>doc_full_name</th>\n      <th>doc_status</th>\n      <th>article_id</th>\n    </tr>\n  </thead>\n  <tbody>\n    <tr>\n      <th>244</th>\n      <td>* Select a country/region: United States\\r\\n\\r...</td>\n      <td>Data exploration and analysis is a repetitive,...</td>\n      <td>Notebooks: A power tool for data scientists</td>\n      <td>Live</td>\n      <td>244</td>\n    </tr>\n    <tr>\n      <th>474</th>\n      <td>* Select a country/region: United States\\r\\n\\r...</td>\n      <td>Machine  learning is changing not only how we ...</td>\n      <td>Intelligent applications - Apache Spark</td>\n      <td>Live</td>\n      <td>473</td>\n    </tr>\n    <tr>\n      <th>564</th>\n      <td>Cheat sheet</td>\n      <td>The RStudio IDE is the most popular integrated...</td>\n      <td>RStudio IDE  Cheat Sheet</td>\n      <td>Live</td>\n      <td>563</td>\n    </tr>\n    <tr>\n      <th>678</th>\n      <td>Cheat sheet</td>\n      <td>The devtools package makes it easy to build yo...</td>\n      <td>Package Development with devtools  Cheat Sheet</td>\n      <td>Live</td>\n      <td>677</td>\n    </tr>\n    <tr>\n      <th>892</th>\n      <td>Need to report the video?\\r\\n\\r\\nSign in to re...</td>\n      <td>Video tutorial showing the complete creation o...</td>\n      <td>Mobile App Webinar Demo</td>\n      <td>Live</td>\n      <td>889</td>\n    </tr>\n    <tr>\n      <th>997</th>\n      <td>Need to report the video?\\r\\n\\r\\nSign in to re...</td>\n      <td>Using Cloudant and MobileFirst services on Blu...</td>\n      <td>Building a MobileFirst App on IBM Bluemix</td>\n      <td>Live</td>\n      <td>992</td>\n    </tr>\n    <tr>\n      <th>33</th>\n      <td>Working Vis * \\r\\n * \\r\\n\\r\\n * Home\\r\\n * Abo...</td>\n      <td>Analytics and visualization often go hand-in-h...</td>\n      <td>Using Brunel in IPython/Jupyter Notebooks</td>\n      <td>Live</td>\n      <td>33</td>\n    </tr>\n    <tr>\n      <th>369</th>\n      <td>Working Vis * \\r\\n * \\r\\n\\r\\n * Home\\r\\n * Abo...</td>\n      <td>After shoveling the driveway several times and...</td>\n      <td>Snowzilla!</td>\n      <td>Live</td>\n      <td>368</td>\n    </tr>\n    <tr>\n      <th>885</th>\n      <td>Working Vis * \\r\\n * \\r\\n\\r\\n * Home\\r\\n * Abo...</td>\n      <td>How to create a blog entry using Brunel in a f...</td>\n      <td>Blogging With Brunel</td>\n      <td>Live</td>\n      <td>882</td>\n    </tr>\n    <tr>\n      <th>1020</th>\n      <td>Working Vis * \\r\\n * \\r\\n\\r\\n * Home\\r\\n * Abo...</td>\n      <td>The two main new features of Brunel 0.8 are an...</td>\n      <td>Enhanced Color mapping</td>\n      <td>Live</td>\n      <td>1015</td>\n    </tr>\n    <tr>\n      <th>206</th>\n      <td>NaN</td>\n      <td>Watch how to convert XML data to CSV format to...</td>\n      <td>Load XML data into dashDB</td>\n      <td>Live</td>\n      <td>206</td>\n    </tr>\n    <tr>\n      <th>276</th>\n      <td>NaN</td>\n      <td>Love to work in Microsoft Excel? Watch how to ...</td>\n      <td>Integrate dashDB with Excel</td>\n      <td>Live</td>\n      <td>276</td>\n    </tr>\n    <tr>\n      <th>484</th>\n      <td>NaN</td>\n      <td>See how to evaluate and convert your DDL and S...</td>\n      <td>Convert IBM Puredata for Analytics to dashDB</td>\n      <td>Live</td>\n      <td>483</td>\n    </tr>\n    <tr>\n      <th>508</th>\n      <td>NaN</td>\n      <td>Watch how to generate SQL-based reports for Cl...</td>\n      <td>Use dashDB with IBM Embeddable Reporting Service</td>\n      <td>Live</td>\n      <td>507</td>\n    </tr>\n    <tr>\n      <th>540</th>\n      <td>NaN</td>\n      <td>Need to move some data to the cloud for wareho...</td>\n      <td>Convert data from Oracle to dashDB</td>\n      <td>Live</td>\n      <td>539</td>\n    </tr>\n    <tr>\n      <th>638</th>\n      <td>NaN</td>\n      <td>See how to create a new dashDB instance and po...</td>\n      <td>Load JSON from Cloudant database into dashDB</td>\n      <td>Live</td>\n      <td>637</td>\n    </tr>\n    <tr>\n      <th>667</th>\n      <td>NaN</td>\n      <td>See how to connect dashDB, as a source and tar...</td>\n      <td>Integrate dashDB and Informatica Cloud</td>\n      <td>Live</td>\n      <td>666</td>\n    </tr>\n    <tr>\n      <th>706</th>\n      <td>NaN</td>\n      <td>Aginity Workbench is a free application known ...</td>\n      <td>Use Aginity Workbench for IBM dashDB</td>\n      <td>Live</td>\n      <td>704</td>\n    </tr>\n    <tr>\n      <th>842</th>\n      <td>NaN</td>\n      <td>Learn how to configure a dashDB connection in ...</td>\n      <td>Leverage dashDB in Cognos Business Intelligence</td>\n      <td>Live</td>\n      <td>839</td>\n    </tr>\n    <tr>\n      <th>876</th>\n      <td>NaN</td>\n      <td>See how to populate data into a table in your ...</td>\n      <td>Load data from the desktop into dashDB</td>\n      <td>Live</td>\n      <td>873</td>\n    </tr>\n    <tr>\n      <th>889</th>\n      <td>NaN</td>\n      <td>Watch how to apply association rules using R t...</td>\n      <td>Perform market basket analysis using dashDB and R</td>\n      <td>Live</td>\n      <td>886</td>\n    </tr>\n    <tr>\n      <th>947</th>\n      <td>NaN</td>\n      <td>Watch how to extract and export dashDB data to...</td>\n      <td>Extract and export dashDB data to a CSV file</td>\n      <td>Live</td>\n      <td>944</td>\n    </tr>\n    <tr>\n      <th>1037</th>\n      <td>NaN</td>\n      <td>See how quick and easy it is to set up a dashD...</td>\n      <td>Get started with dashDB on Bluemix</td>\n      <td>Live</td>\n      <td>1032</td>\n    </tr>\n    <tr>\n      <th>1054</th>\n      <td>NaN</td>\n      <td>Learn how to use IBM dashDB as data store for ...</td>\n      <td>Use dashDB with Spark</td>\n      <td>Live</td>\n      <td>1049</td>\n    </tr>\n  </tbody>\n</table>\n</div>"
     },
     "execution_count": 16,
     "metadata": {},
     "output_type": "execute_result"
    }
   ],
   "source": [
    "df_content[df_content.duplicated(\"doc_body\", keep=False)].sort_values(\"doc_body\")"
   ],
   "metadata": {
    "collapsed": false
   }
  },
  {
   "cell_type": "code",
   "execution_count": 17,
   "outputs": [
    {
     "data": {
      "text/plain": "                                               doc_body  \\\n884   * Home\\r\\n * Research\\r\\n * Partnerships and C...   \n607   * Home\\r\\n * Research\\r\\n * Partnerships and C...   \n2     ☰ * Login\\r\\n * Sign Up\\r\\n\\r\\n * Learning Pat...   \n560   ☰ * Login\\r\\n * Sign Up\\r\\n\\r\\n * Learning Pat...   \n304   ☰ * Login\\r\\n * Sign Up\\r\\n\\r\\n * Learning Pat...   \n288   ☰ * Login\\r\\n * Sign Up\\r\\n\\r\\n * Learning Pat...   \n727   ☰ * Login\\r\\n * Sign Up\\r\\n\\r\\n * Learning Pat...   \n210   ☰ * Login\\r\\n * Sign Up\\r\\n\\r\\n * Learning Pat...   \n191   ☰ * Login\\r\\n * Sign Up\\r\\n\\r\\n * Learning Pat...   \n839   ☰ * Login\\r\\n * Sign Up\\r\\n\\r\\n * Learning Pat...   \n78    ☰ * Login\\r\\n * Sign Up\\r\\n\\r\\n * Learning Pat...   \n867   ☰ * Login\\r\\n * Sign Up\\r\\n\\r\\n * Learning Pat...   \n738   ☰ * Login\\r\\n * Sign Up\\r\\n\\r\\n * Learning Pat...   \n810   ☰ * Login\\r\\n * Sign Up\\r\\n\\r\\n * Learning Pat...   \n708   ☰ * Login\\r\\n * Sign Up\\r\\n\\r\\n * Learning Pat...   \n831   ☰ * Login\\r\\n * Sign Up\\r\\n\\r\\n * Learning Pat...   \n503   Beta ☰ * Login\\r\\n * Sign Up\\r\\n\\r\\n * Learnin...   \n492   ☰ * Login\\r\\n * Sign Up\\r\\n\\r\\n * Learning Pat...   \n462   ☰ * Login\\r\\n * Sign Up\\r\\n\\r\\n * Learning Pat...   \n441   ☰ * Login\\r\\n * Sign Up\\r\\n\\r\\n * Learning Pat...   \n348   ☰ * Login\\r\\n * Sign Up\\r\\n\\r\\n * Learning Pat...   \n269   ☰ * Login\\r\\n * Sign Up\\r\\n\\r\\n * Learning Pat...   \n73    ☰ * Login\\r\\n * Sign Up\\r\\n\\r\\n * Learning Pat...   \n76    ☰ * Login\\r\\n * Sign Up\\r\\n\\r\\n * Learning Pat...   \n449   ☰ * Login\\r\\n * Sign Up\\r\\n\\r\\n * Learning Pat...   \n136   ☰ * Login\\r\\n * Sign Up\\r\\n\\r\\n * Learning Pat...   \n113   ☰ * Login\\r\\n * Sign Up\\r\\n\\r\\n * Learning Pat...   \n87    Beta ☰ * Login\\r\\n * Sign Up\\r\\n\\r\\n * Learnin...   \n910   Skip to main content IBM developerWorks / Deve...   \n838   Skip to main content IBM developerWorks / Deve...   \n896    USE THE MACHINE LEARNING LIBRARYJess Mantaro ...   \n161   Skip to main content IBM developerWorks / Deve...   \n971   Homepage Follow Sign in Get started * Home\\r\\n...   \n232   Homepage Follow Sign in Get started Homepage *...   \n803   Skip to contentDinesh Nirmal's Blog\\r\\n\\r\\nA b...   \n1040  Skip to contentDinesh Nirmal's Blog\\r\\n\\r\\nA b...   \n252   * Home\\r\\n * Research\\r\\n * Partnerships and C...   \n493   * Home\\r\\n * Research\\r\\n * Partnerships and C...   \n399   Homepage Follow Sign in Get started * Home\\r\\n...   \n761   Homepage Follow Sign in Get started Homepage *...   \n354   The search index lets you create flexible quer...   \n768   Compose The Compose logo Articles Sign in Free...   \n919   Cloudant Query is a powerful declarative JSON ...   \n\n                                        doc_description  \\\n884   Every two weeks, we find the most interesting ...   \n607   Every two weeks, we find the most interesting ...   \n2     Here’s this week’s news in Data Science and Bi...   \n560   Here’s this week’s news in Data Science and Bi...   \n304   Here’s this week’s news in Data Science and Bi...   \n288   Here’s this week’s news in Data Science and Bi...   \n727   Here’s this week’s news in Data Science and Bi...   \n210   Here’s this week’s news in Data Science and Bi...   \n191   Here’s this week’s news in Data Science and Bi...   \n839   Here’s this week’s news in Data Science and Bi...   \n78    Here’s this week’s news in Data Science and Bi...   \n867   Here’s this week’s news in Data Science and Bi...   \n738   Here’s this week’s news in Data Science and Bi...   \n810   Here’s this week’s news in Data Science and Bi...   \n708   Here’s this week’s news in Data Science and Bi...   \n831   Here’s this week’s news in Data Science and Bi...   \n503   Here’s this week’s news in Data Science and Bi...   \n492   Here’s this week’s news in Data Science and Bi...   \n462   Here’s this week’s news in Data Science and Bi...   \n441   Here’s this week’s news in Data Science and Bi...   \n348   Here’s this week’s news in Data Science and Bi...   \n269   Here’s this week’s news in Data Science and Bi...   \n73    Here’s this week’s news in Data Science and Bi...   \n76    Here’s this week’s news in Data Science and Bi...   \n449   Here’s this week’s news in Data Science and Bi...   \n136   Here’s this week’s news in Data Science and Bi...   \n113   Here’s this week’s news in Data Science and Bi...   \n87    Here’s this week’s news in Data Science and Bi...   \n910   How to build SQL Queries in a Scala notebook u...   \n838   How to build SQL Queries in a Scala notebook u...   \n896   How to use the Spark machine learning programm...   \n161   How to use the Spark machine learning programm...   \n971   If you are like most data scientists, you are ...   \n232   If you are like most data scientists, you are ...   \n803   In my last blog “Business differentiation thro...   \n1040  In my last blog “Business differentiation thro...   \n252   Interesting data science links from around the...   \n493   Interesting data science links from around the...   \n399   Today’s world of data science leverages data f...   \n761   Today’s world of data science leverages data f...   \n354                                                 NaN   \n768                                                 NaN   \n919                                                 NaN   \n\n                                          doc_full_name doc_status  article_id  \n884                  Web Picks (week of 2 October 2017)       Live         881  \n607                           Web Picks (December 2017)       Live         606  \n2            This Week in Data Science (April 18, 2017)       Live           2  \n560           This Week in Data Science (April 4, 2017)       Live         559  \n304         This Week in Data Science (August 30, 2016)       Live         304  \n288        This Week in Data Science (January 31, 2017)       Live         288  \n727           This Week in Data Science (March 7, 2017)       Live         725  \n210       This Week in Data Science (February 14, 2017)       Live         210  \n191          This Week in Data Science (March 28, 2017)       Live         191  \n839        This Week in Data Science (October 05, 2016)       Live         836  \n78             This Week in Data Science (May 16, 2017)       Live          78  \n867       This Week in Data Science (February 21, 2017)       Live         864  \n738      This Week in Data Science (September 20, 2016)       Live         736  \n810         This Week in Data Science (August 23, 2016)       Live         807  \n708         This Week in Data Science (August 16, 2016)       Live         706  \n831         This Week in Data Science (August 09, 2016)       Live         828  \n503         This Week in Data Science (August 02, 2016)       Live         502  \n492            This Week in Data Science (May 23, 2017)       Live         491  \n462      This Week in Data Science (September 13, 2016)       Live         461  \n441        This Week in Data Science (January 24, 2017)       Live         440  \n348          This Week in Data Science (April 25, 2017)       Live         348  \n269      This Week in Data Science (September 06, 2016)       Live         269  \n73       This Week in Data Science (September 27, 2016)       Live          73  \n76              This Week in Data Science (May 2, 2017)       Live          76  \n449          This Week in Data Science (April 11, 2017)       Live         448  \n136        This Week in Data Science (February 7, 2017)       Live         136  \n113       This Week in Data Science (February 28, 2017)       Live         113  \n87            This Week in Data Science (July 26, 2016)       Live          87  \n910                             Build Spark SQL Queries       Live         907  \n838   Build SQL Queries in a Scala notebook using Ap...       Live         835  \n896   Use the Machine Learning Library in IBM Analyt...       Live         893  \n161           Use the Machine Learning Library in Spark       Live         161  \n971   Self-service data preparation with IBM Data Re...       Live         232  \n232   Self-service data preparation with IBM Data Re...       Live         232  \n803                 Machine Learning for the Enterprise       Live         800  \n1040               Machine Learning for the Enterprise.       Live        1035  \n252                Web Picks (week of 4 September 2017)       Live         252  \n493                         Web Picks by DataMiningApps       Live         492  \n399   Using Apache Spark as a parallel processing fr...       Live         398  \n761   Using Apache Spark as a parallel processing fr...       Live         398  \n354                  Build the search index in Cloudant       Live         354  \n768          Announcing the Data Browser for JanusGraph       Live         765  \n919                          Use the new Cloudant query       Live         916  ",
      "text/html": "<div>\n<style scoped>\n    .dataframe tbody tr th:only-of-type {\n        vertical-align: middle;\n    }\n\n    .dataframe tbody tr th {\n        vertical-align: top;\n    }\n\n    .dataframe thead th {\n        text-align: right;\n    }\n</style>\n<table border=\"1\" class=\"dataframe\">\n  <thead>\n    <tr style=\"text-align: right;\">\n      <th></th>\n      <th>doc_body</th>\n      <th>doc_description</th>\n      <th>doc_full_name</th>\n      <th>doc_status</th>\n      <th>article_id</th>\n    </tr>\n  </thead>\n  <tbody>\n    <tr>\n      <th>884</th>\n      <td>* Home\\r\\n * Research\\r\\n * Partnerships and C...</td>\n      <td>Every two weeks, we find the most interesting ...</td>\n      <td>Web Picks (week of 2 October 2017)</td>\n      <td>Live</td>\n      <td>881</td>\n    </tr>\n    <tr>\n      <th>607</th>\n      <td>* Home\\r\\n * Research\\r\\n * Partnerships and C...</td>\n      <td>Every two weeks, we find the most interesting ...</td>\n      <td>Web Picks (December 2017)</td>\n      <td>Live</td>\n      <td>606</td>\n    </tr>\n    <tr>\n      <th>2</th>\n      <td>☰ * Login\\r\\n * Sign Up\\r\\n\\r\\n * Learning Pat...</td>\n      <td>Here’s this week’s news in Data Science and Bi...</td>\n      <td>This Week in Data Science (April 18, 2017)</td>\n      <td>Live</td>\n      <td>2</td>\n    </tr>\n    <tr>\n      <th>560</th>\n      <td>☰ * Login\\r\\n * Sign Up\\r\\n\\r\\n * Learning Pat...</td>\n      <td>Here’s this week’s news in Data Science and Bi...</td>\n      <td>This Week in Data Science (April 4, 2017)</td>\n      <td>Live</td>\n      <td>559</td>\n    </tr>\n    <tr>\n      <th>304</th>\n      <td>☰ * Login\\r\\n * Sign Up\\r\\n\\r\\n * Learning Pat...</td>\n      <td>Here’s this week’s news in Data Science and Bi...</td>\n      <td>This Week in Data Science (August 30, 2016)</td>\n      <td>Live</td>\n      <td>304</td>\n    </tr>\n    <tr>\n      <th>288</th>\n      <td>☰ * Login\\r\\n * Sign Up\\r\\n\\r\\n * Learning Pat...</td>\n      <td>Here’s this week’s news in Data Science and Bi...</td>\n      <td>This Week in Data Science (January 31, 2017)</td>\n      <td>Live</td>\n      <td>288</td>\n    </tr>\n    <tr>\n      <th>727</th>\n      <td>☰ * Login\\r\\n * Sign Up\\r\\n\\r\\n * Learning Pat...</td>\n      <td>Here’s this week’s news in Data Science and Bi...</td>\n      <td>This Week in Data Science (March 7, 2017)</td>\n      <td>Live</td>\n      <td>725</td>\n    </tr>\n    <tr>\n      <th>210</th>\n      <td>☰ * Login\\r\\n * Sign Up\\r\\n\\r\\n * Learning Pat...</td>\n      <td>Here’s this week’s news in Data Science and Bi...</td>\n      <td>This Week in Data Science (February 14, 2017)</td>\n      <td>Live</td>\n      <td>210</td>\n    </tr>\n    <tr>\n      <th>191</th>\n      <td>☰ * Login\\r\\n * Sign Up\\r\\n\\r\\n * Learning Pat...</td>\n      <td>Here’s this week’s news in Data Science and Bi...</td>\n      <td>This Week in Data Science (March 28, 2017)</td>\n      <td>Live</td>\n      <td>191</td>\n    </tr>\n    <tr>\n      <th>839</th>\n      <td>☰ * Login\\r\\n * Sign Up\\r\\n\\r\\n * Learning Pat...</td>\n      <td>Here’s this week’s news in Data Science and Bi...</td>\n      <td>This Week in Data Science (October 05, 2016)</td>\n      <td>Live</td>\n      <td>836</td>\n    </tr>\n    <tr>\n      <th>78</th>\n      <td>☰ * Login\\r\\n * Sign Up\\r\\n\\r\\n * Learning Pat...</td>\n      <td>Here’s this week’s news in Data Science and Bi...</td>\n      <td>This Week in Data Science (May 16, 2017)</td>\n      <td>Live</td>\n      <td>78</td>\n    </tr>\n    <tr>\n      <th>867</th>\n      <td>☰ * Login\\r\\n * Sign Up\\r\\n\\r\\n * Learning Pat...</td>\n      <td>Here’s this week’s news in Data Science and Bi...</td>\n      <td>This Week in Data Science (February 21, 2017)</td>\n      <td>Live</td>\n      <td>864</td>\n    </tr>\n    <tr>\n      <th>738</th>\n      <td>☰ * Login\\r\\n * Sign Up\\r\\n\\r\\n * Learning Pat...</td>\n      <td>Here’s this week’s news in Data Science and Bi...</td>\n      <td>This Week in Data Science (September 20, 2016)</td>\n      <td>Live</td>\n      <td>736</td>\n    </tr>\n    <tr>\n      <th>810</th>\n      <td>☰ * Login\\r\\n * Sign Up\\r\\n\\r\\n * Learning Pat...</td>\n      <td>Here’s this week’s news in Data Science and Bi...</td>\n      <td>This Week in Data Science (August 23, 2016)</td>\n      <td>Live</td>\n      <td>807</td>\n    </tr>\n    <tr>\n      <th>708</th>\n      <td>☰ * Login\\r\\n * Sign Up\\r\\n\\r\\n * Learning Pat...</td>\n      <td>Here’s this week’s news in Data Science and Bi...</td>\n      <td>This Week in Data Science (August 16, 2016)</td>\n      <td>Live</td>\n      <td>706</td>\n    </tr>\n    <tr>\n      <th>831</th>\n      <td>☰ * Login\\r\\n * Sign Up\\r\\n\\r\\n * Learning Pat...</td>\n      <td>Here’s this week’s news in Data Science and Bi...</td>\n      <td>This Week in Data Science (August 09, 2016)</td>\n      <td>Live</td>\n      <td>828</td>\n    </tr>\n    <tr>\n      <th>503</th>\n      <td>Beta ☰ * Login\\r\\n * Sign Up\\r\\n\\r\\n * Learnin...</td>\n      <td>Here’s this week’s news in Data Science and Bi...</td>\n      <td>This Week in Data Science (August 02, 2016)</td>\n      <td>Live</td>\n      <td>502</td>\n    </tr>\n    <tr>\n      <th>492</th>\n      <td>☰ * Login\\r\\n * Sign Up\\r\\n\\r\\n * Learning Pat...</td>\n      <td>Here’s this week’s news in Data Science and Bi...</td>\n      <td>This Week in Data Science (May 23, 2017)</td>\n      <td>Live</td>\n      <td>491</td>\n    </tr>\n    <tr>\n      <th>462</th>\n      <td>☰ * Login\\r\\n * Sign Up\\r\\n\\r\\n * Learning Pat...</td>\n      <td>Here’s this week’s news in Data Science and Bi...</td>\n      <td>This Week in Data Science (September 13, 2016)</td>\n      <td>Live</td>\n      <td>461</td>\n    </tr>\n    <tr>\n      <th>441</th>\n      <td>☰ * Login\\r\\n * Sign Up\\r\\n\\r\\n * Learning Pat...</td>\n      <td>Here’s this week’s news in Data Science and Bi...</td>\n      <td>This Week in Data Science (January 24, 2017)</td>\n      <td>Live</td>\n      <td>440</td>\n    </tr>\n    <tr>\n      <th>348</th>\n      <td>☰ * Login\\r\\n * Sign Up\\r\\n\\r\\n * Learning Pat...</td>\n      <td>Here’s this week’s news in Data Science and Bi...</td>\n      <td>This Week in Data Science (April 25, 2017)</td>\n      <td>Live</td>\n      <td>348</td>\n    </tr>\n    <tr>\n      <th>269</th>\n      <td>☰ * Login\\r\\n * Sign Up\\r\\n\\r\\n * Learning Pat...</td>\n      <td>Here’s this week’s news in Data Science and Bi...</td>\n      <td>This Week in Data Science (September 06, 2016)</td>\n      <td>Live</td>\n      <td>269</td>\n    </tr>\n    <tr>\n      <th>73</th>\n      <td>☰ * Login\\r\\n * Sign Up\\r\\n\\r\\n * Learning Pat...</td>\n      <td>Here’s this week’s news in Data Science and Bi...</td>\n      <td>This Week in Data Science (September 27, 2016)</td>\n      <td>Live</td>\n      <td>73</td>\n    </tr>\n    <tr>\n      <th>76</th>\n      <td>☰ * Login\\r\\n * Sign Up\\r\\n\\r\\n * Learning Pat...</td>\n      <td>Here’s this week’s news in Data Science and Bi...</td>\n      <td>This Week in Data Science (May 2, 2017)</td>\n      <td>Live</td>\n      <td>76</td>\n    </tr>\n    <tr>\n      <th>449</th>\n      <td>☰ * Login\\r\\n * Sign Up\\r\\n\\r\\n * Learning Pat...</td>\n      <td>Here’s this week’s news in Data Science and Bi...</td>\n      <td>This Week in Data Science (April 11, 2017)</td>\n      <td>Live</td>\n      <td>448</td>\n    </tr>\n    <tr>\n      <th>136</th>\n      <td>☰ * Login\\r\\n * Sign Up\\r\\n\\r\\n * Learning Pat...</td>\n      <td>Here’s this week’s news in Data Science and Bi...</td>\n      <td>This Week in Data Science (February 7, 2017)</td>\n      <td>Live</td>\n      <td>136</td>\n    </tr>\n    <tr>\n      <th>113</th>\n      <td>☰ * Login\\r\\n * Sign Up\\r\\n\\r\\n * Learning Pat...</td>\n      <td>Here’s this week’s news in Data Science and Bi...</td>\n      <td>This Week in Data Science (February 28, 2017)</td>\n      <td>Live</td>\n      <td>113</td>\n    </tr>\n    <tr>\n      <th>87</th>\n      <td>Beta ☰ * Login\\r\\n * Sign Up\\r\\n\\r\\n * Learnin...</td>\n      <td>Here’s this week’s news in Data Science and Bi...</td>\n      <td>This Week in Data Science (July 26, 2016)</td>\n      <td>Live</td>\n      <td>87</td>\n    </tr>\n    <tr>\n      <th>910</th>\n      <td>Skip to main content IBM developerWorks / Deve...</td>\n      <td>How to build SQL Queries in a Scala notebook u...</td>\n      <td>Build Spark SQL Queries</td>\n      <td>Live</td>\n      <td>907</td>\n    </tr>\n    <tr>\n      <th>838</th>\n      <td>Skip to main content IBM developerWorks / Deve...</td>\n      <td>How to build SQL Queries in a Scala notebook u...</td>\n      <td>Build SQL Queries in a Scala notebook using Ap...</td>\n      <td>Live</td>\n      <td>835</td>\n    </tr>\n    <tr>\n      <th>896</th>\n      <td>USE THE MACHINE LEARNING LIBRARYJess Mantaro ...</td>\n      <td>How to use the Spark machine learning programm...</td>\n      <td>Use the Machine Learning Library in IBM Analyt...</td>\n      <td>Live</td>\n      <td>893</td>\n    </tr>\n    <tr>\n      <th>161</th>\n      <td>Skip to main content IBM developerWorks / Deve...</td>\n      <td>How to use the Spark machine learning programm...</td>\n      <td>Use the Machine Learning Library in Spark</td>\n      <td>Live</td>\n      <td>161</td>\n    </tr>\n    <tr>\n      <th>971</th>\n      <td>Homepage Follow Sign in Get started * Home\\r\\n...</td>\n      <td>If you are like most data scientists, you are ...</td>\n      <td>Self-service data preparation with IBM Data Re...</td>\n      <td>Live</td>\n      <td>232</td>\n    </tr>\n    <tr>\n      <th>232</th>\n      <td>Homepage Follow Sign in Get started Homepage *...</td>\n      <td>If you are like most data scientists, you are ...</td>\n      <td>Self-service data preparation with IBM Data Re...</td>\n      <td>Live</td>\n      <td>232</td>\n    </tr>\n    <tr>\n      <th>803</th>\n      <td>Skip to contentDinesh Nirmal's Blog\\r\\n\\r\\nA b...</td>\n      <td>In my last blog “Business differentiation thro...</td>\n      <td>Machine Learning for the Enterprise</td>\n      <td>Live</td>\n      <td>800</td>\n    </tr>\n    <tr>\n      <th>1040</th>\n      <td>Skip to contentDinesh Nirmal's Blog\\r\\n\\r\\nA b...</td>\n      <td>In my last blog “Business differentiation thro...</td>\n      <td>Machine Learning for the Enterprise.</td>\n      <td>Live</td>\n      <td>1035</td>\n    </tr>\n    <tr>\n      <th>252</th>\n      <td>* Home\\r\\n * Research\\r\\n * Partnerships and C...</td>\n      <td>Interesting data science links from around the...</td>\n      <td>Web Picks (week of 4 September 2017)</td>\n      <td>Live</td>\n      <td>252</td>\n    </tr>\n    <tr>\n      <th>493</th>\n      <td>* Home\\r\\n * Research\\r\\n * Partnerships and C...</td>\n      <td>Interesting data science links from around the...</td>\n      <td>Web Picks by DataMiningApps</td>\n      <td>Live</td>\n      <td>492</td>\n    </tr>\n    <tr>\n      <th>399</th>\n      <td>Homepage Follow Sign in Get started * Home\\r\\n...</td>\n      <td>Today’s world of data science leverages data f...</td>\n      <td>Using Apache Spark as a parallel processing fr...</td>\n      <td>Live</td>\n      <td>398</td>\n    </tr>\n    <tr>\n      <th>761</th>\n      <td>Homepage Follow Sign in Get started Homepage *...</td>\n      <td>Today’s world of data science leverages data f...</td>\n      <td>Using Apache Spark as a parallel processing fr...</td>\n      <td>Live</td>\n      <td>398</td>\n    </tr>\n    <tr>\n      <th>354</th>\n      <td>The search index lets you create flexible quer...</td>\n      <td>NaN</td>\n      <td>Build the search index in Cloudant</td>\n      <td>Live</td>\n      <td>354</td>\n    </tr>\n    <tr>\n      <th>768</th>\n      <td>Compose The Compose logo Articles Sign in Free...</td>\n      <td>NaN</td>\n      <td>Announcing the Data Browser for JanusGraph</td>\n      <td>Live</td>\n      <td>765</td>\n    </tr>\n    <tr>\n      <th>919</th>\n      <td>Cloudant Query is a powerful declarative JSON ...</td>\n      <td>NaN</td>\n      <td>Use the new Cloudant query</td>\n      <td>Live</td>\n      <td>916</td>\n    </tr>\n  </tbody>\n</table>\n</div>"
     },
     "execution_count": 17,
     "metadata": {},
     "output_type": "execute_result"
    }
   ],
   "source": [
    "df_content[df_content.duplicated(\"doc_description\", keep=False)].sort_values(\"doc_description\")"
   ],
   "metadata": {
    "collapsed": false
   }
  },
  {
   "cell_type": "code",
   "execution_count": 18,
   "outputs": [
    {
     "data": {
      "text/plain": "                                              doc_body  \\\n50   Follow Sign in / Sign up Home About Insight Da...   \n365  Follow Sign in / Sign up Home About Insight Da...   \n221  * United States\\r\\n\\r\\nIBM® * Site map\\r\\n\\r\\n...   \n692  Homepage Follow Sign in / Sign up Homepage * H...   \n232  Homepage Follow Sign in Get started Homepage *...   \n971  Homepage Follow Sign in Get started * Home\\r\\n...   \n399  Homepage Follow Sign in Get started * Home\\r\\n...   \n761  Homepage Follow Sign in Get started Homepage *...   \n578  This video shows you how to construct queries ...   \n970  This video shows you how to construct queries ...   \n\n                                       doc_description  \\\n50                        Community Detection at Scale   \n365  During the seven-week Insight Data Engineering...   \n221  When used to make sense of huge amounts of con...   \n692  One of the earliest documented catalogs was co...   \n232  If you are like most data scientists, you are ...   \n971  If you are like most data scientists, you are ...   \n399  Today’s world of data science leverages data f...   \n761  Today’s world of data science leverages data f...   \n578  This video shows you how to construct queries ...   \n970  This video shows you how to construct queries ...   \n\n                                         doc_full_name doc_status  article_id  \n50                        Graph-based machine learning       Live          50  \n365                       Graph-based machine learning       Live          50  \n221  How smart catalogs can turn the big data flood...       Live         221  \n692  How smart catalogs can turn the big data flood...       Live         221  \n232  Self-service data preparation with IBM Data Re...       Live         232  \n971  Self-service data preparation with IBM Data Re...       Live         232  \n399  Using Apache Spark as a parallel processing fr...       Live         398  \n761  Using Apache Spark as a parallel processing fr...       Live         398  \n578                              Use the Primary Index       Live         577  \n970                              Use the Primary Index       Live         577  ",
      "text/html": "<div>\n<style scoped>\n    .dataframe tbody tr th:only-of-type {\n        vertical-align: middle;\n    }\n\n    .dataframe tbody tr th {\n        vertical-align: top;\n    }\n\n    .dataframe thead th {\n        text-align: right;\n    }\n</style>\n<table border=\"1\" class=\"dataframe\">\n  <thead>\n    <tr style=\"text-align: right;\">\n      <th></th>\n      <th>doc_body</th>\n      <th>doc_description</th>\n      <th>doc_full_name</th>\n      <th>doc_status</th>\n      <th>article_id</th>\n    </tr>\n  </thead>\n  <tbody>\n    <tr>\n      <th>50</th>\n      <td>Follow Sign in / Sign up Home About Insight Da...</td>\n      <td>Community Detection at Scale</td>\n      <td>Graph-based machine learning</td>\n      <td>Live</td>\n      <td>50</td>\n    </tr>\n    <tr>\n      <th>365</th>\n      <td>Follow Sign in / Sign up Home About Insight Da...</td>\n      <td>During the seven-week Insight Data Engineering...</td>\n      <td>Graph-based machine learning</td>\n      <td>Live</td>\n      <td>50</td>\n    </tr>\n    <tr>\n      <th>221</th>\n      <td>* United States\\r\\n\\r\\nIBM® * Site map\\r\\n\\r\\n...</td>\n      <td>When used to make sense of huge amounts of con...</td>\n      <td>How smart catalogs can turn the big data flood...</td>\n      <td>Live</td>\n      <td>221</td>\n    </tr>\n    <tr>\n      <th>692</th>\n      <td>Homepage Follow Sign in / Sign up Homepage * H...</td>\n      <td>One of the earliest documented catalogs was co...</td>\n      <td>How smart catalogs can turn the big data flood...</td>\n      <td>Live</td>\n      <td>221</td>\n    </tr>\n    <tr>\n      <th>232</th>\n      <td>Homepage Follow Sign in Get started Homepage *...</td>\n      <td>If you are like most data scientists, you are ...</td>\n      <td>Self-service data preparation with IBM Data Re...</td>\n      <td>Live</td>\n      <td>232</td>\n    </tr>\n    <tr>\n      <th>971</th>\n      <td>Homepage Follow Sign in Get started * Home\\r\\n...</td>\n      <td>If you are like most data scientists, you are ...</td>\n      <td>Self-service data preparation with IBM Data Re...</td>\n      <td>Live</td>\n      <td>232</td>\n    </tr>\n    <tr>\n      <th>399</th>\n      <td>Homepage Follow Sign in Get started * Home\\r\\n...</td>\n      <td>Today’s world of data science leverages data f...</td>\n      <td>Using Apache Spark as a parallel processing fr...</td>\n      <td>Live</td>\n      <td>398</td>\n    </tr>\n    <tr>\n      <th>761</th>\n      <td>Homepage Follow Sign in Get started Homepage *...</td>\n      <td>Today’s world of data science leverages data f...</td>\n      <td>Using Apache Spark as a parallel processing fr...</td>\n      <td>Live</td>\n      <td>398</td>\n    </tr>\n    <tr>\n      <th>578</th>\n      <td>This video shows you how to construct queries ...</td>\n      <td>This video shows you how to construct queries ...</td>\n      <td>Use the Primary Index</td>\n      <td>Live</td>\n      <td>577</td>\n    </tr>\n    <tr>\n      <th>970</th>\n      <td>This video shows you how to construct queries ...</td>\n      <td>This video shows you how to construct queries ...</td>\n      <td>Use the Primary Index</td>\n      <td>Live</td>\n      <td>577</td>\n    </tr>\n  </tbody>\n</table>\n</div>"
     },
     "execution_count": 18,
     "metadata": {},
     "output_type": "execute_result"
    }
   ],
   "source": [
    "df_content[df_content.duplicated(\"article_id\", keep=False)].sort_values(\"article_id\")"
   ],
   "metadata": {
    "collapsed": false
   }
  },
  {
   "cell_type": "code",
   "execution_count": 19,
   "outputs": [],
   "source": [
    "# Remove any rows that have the same article_id - only keep the first\n",
    "df_content.drop_duplicates(\"article_id\", inplace=True)"
   ],
   "metadata": {
    "collapsed": false
   }
  },
  {
   "cell_type": "markdown",
   "source": [
    "`3.` Use the cells below to find:\n",
    "\n",
    "**a.** The number of unique articles that have an interaction with a user.\n",
    "**b.** The number of unique articles in the dataset (whether they have any interactions or not).<br>\n",
    "**c.** The number of unique users in the dataset. (excluding null values) <br>\n",
    "**d.** The number of user-article interactions in the dataset."
   ],
   "metadata": {
    "collapsed": false
   }
  },
  {
   "cell_type": "code",
   "execution_count": 20,
   "outputs": [
    {
     "name": "stdout",
     "output_type": "stream",
     "text": [
      "Number of missing values in column article_id: 0\n",
      "Number of missing values in column title: 0\n",
      "Number of missing values in column email: 17\n"
     ]
    }
   ],
   "source": [
    "for c in df.columns:\n",
    "    print(f\"Number of missing values in column {c}: {df[c].isna().sum()}\")"
   ],
   "metadata": {
    "collapsed": false
   }
  },
  {
   "cell_type": "code",
   "execution_count": 21,
   "outputs": [
    {
     "data": {
      "text/plain": "       article_id                                              title email\n25131      1016.0  why you should master r (even if it might even...   NaN\n29758      1393.0                       the nurse assignment problem   NaN\n29759        20.0  working interactively with rstudio and noteboo...   NaN\n29760      1174.0      breast cancer wisconsin (diagnostic) data set   NaN\n29761        62.0  data visualization: the importance of excludin...   NaN\n35264       224.0                   using apply, sapply, lapply in r   NaN\n35276       961.0                     beyond parallelize and collect   NaN\n35277       268.0                      sector correlations shiny app   NaN\n35278       268.0                      sector correlations shiny app   NaN\n35279       268.0                      sector correlations shiny app   NaN\n35280       268.0                      sector correlations shiny app   NaN\n35281       415.0  using machine learning to predict value of hom...   NaN\n35282       846.0        pearson correlation aggregation on sparksql   NaN\n35283       268.0                      sector correlations shiny app   NaN\n35284       162.0  an introduction to stock market data analysis ...   NaN\n42749       647.0                 getting started with apache mahout   NaN\n42750       965.0  data visualization playbook: revisiting the ba...   NaN",
      "text/html": "<div>\n<style scoped>\n    .dataframe tbody tr th:only-of-type {\n        vertical-align: middle;\n    }\n\n    .dataframe tbody tr th {\n        vertical-align: top;\n    }\n\n    .dataframe thead th {\n        text-align: right;\n    }\n</style>\n<table border=\"1\" class=\"dataframe\">\n  <thead>\n    <tr style=\"text-align: right;\">\n      <th></th>\n      <th>article_id</th>\n      <th>title</th>\n      <th>email</th>\n    </tr>\n  </thead>\n  <tbody>\n    <tr>\n      <th>25131</th>\n      <td>1016.0</td>\n      <td>why you should master r (even if it might even...</td>\n      <td>NaN</td>\n    </tr>\n    <tr>\n      <th>29758</th>\n      <td>1393.0</td>\n      <td>the nurse assignment problem</td>\n      <td>NaN</td>\n    </tr>\n    <tr>\n      <th>29759</th>\n      <td>20.0</td>\n      <td>working interactively with rstudio and noteboo...</td>\n      <td>NaN</td>\n    </tr>\n    <tr>\n      <th>29760</th>\n      <td>1174.0</td>\n      <td>breast cancer wisconsin (diagnostic) data set</td>\n      <td>NaN</td>\n    </tr>\n    <tr>\n      <th>29761</th>\n      <td>62.0</td>\n      <td>data visualization: the importance of excludin...</td>\n      <td>NaN</td>\n    </tr>\n    <tr>\n      <th>35264</th>\n      <td>224.0</td>\n      <td>using apply, sapply, lapply in r</td>\n      <td>NaN</td>\n    </tr>\n    <tr>\n      <th>35276</th>\n      <td>961.0</td>\n      <td>beyond parallelize and collect</td>\n      <td>NaN</td>\n    </tr>\n    <tr>\n      <th>35277</th>\n      <td>268.0</td>\n      <td>sector correlations shiny app</td>\n      <td>NaN</td>\n    </tr>\n    <tr>\n      <th>35278</th>\n      <td>268.0</td>\n      <td>sector correlations shiny app</td>\n      <td>NaN</td>\n    </tr>\n    <tr>\n      <th>35279</th>\n      <td>268.0</td>\n      <td>sector correlations shiny app</td>\n      <td>NaN</td>\n    </tr>\n    <tr>\n      <th>35280</th>\n      <td>268.0</td>\n      <td>sector correlations shiny app</td>\n      <td>NaN</td>\n    </tr>\n    <tr>\n      <th>35281</th>\n      <td>415.0</td>\n      <td>using machine learning to predict value of hom...</td>\n      <td>NaN</td>\n    </tr>\n    <tr>\n      <th>35282</th>\n      <td>846.0</td>\n      <td>pearson correlation aggregation on sparksql</td>\n      <td>NaN</td>\n    </tr>\n    <tr>\n      <th>35283</th>\n      <td>268.0</td>\n      <td>sector correlations shiny app</td>\n      <td>NaN</td>\n    </tr>\n    <tr>\n      <th>35284</th>\n      <td>162.0</td>\n      <td>an introduction to stock market data analysis ...</td>\n      <td>NaN</td>\n    </tr>\n    <tr>\n      <th>42749</th>\n      <td>647.0</td>\n      <td>getting started with apache mahout</td>\n      <td>NaN</td>\n    </tr>\n    <tr>\n      <th>42750</th>\n      <td>965.0</td>\n      <td>data visualization playbook: revisiting the ba...</td>\n      <td>NaN</td>\n    </tr>\n  </tbody>\n</table>\n</div>"
     },
     "execution_count": 21,
     "metadata": {},
     "output_type": "execute_result"
    }
   ],
   "source": [
    "df[df[\"email\"].isna()]"
   ],
   "metadata": {
    "collapsed": false
   }
  },
  {
   "cell_type": "code",
   "execution_count": 22,
   "outputs": [
    {
     "name": "stdout",
     "output_type": "stream",
     "text": [
      "Number of missing values in column doc_body: 14\n",
      "Number of missing values in column doc_description: 3\n",
      "Number of missing values in column doc_full_name: 0\n",
      "Number of missing values in column doc_status: 0\n",
      "Number of missing values in column article_id: 0\n"
     ]
    }
   ],
   "source": [
    "for c in df_content.columns:\n",
    "    print(f\"Number of missing values in column {c}: {df_content[c].isna().sum()}\")"
   ],
   "metadata": {
    "collapsed": false
   }
  },
  {
   "cell_type": "code",
   "execution_count": 23,
   "outputs": [
    {
     "name": "stdout",
     "output_type": "stream",
     "text": [
      "The number of unique articles that have at least one interaction: 714\n",
      "The number of unique articles on the IBM platform: 1051\n",
      "The number of unique users: 5148\n",
      "The number of user-article interactions: 45993\n"
     ]
    }
   ],
   "source": [
    "unique_articles = df[\"article_id\"].nunique() # The number of unique articles that have at least one interaction\n",
    "total_articles = df_content[\"article_id\"].nunique() # The number of unique articles on the IBM platform\n",
    "unique_users = df[\"email\"].nunique() # The number of unique users\n",
    "user_article_interactions = df.shape[0] # The number of user-article interactions\n",
    "\n",
    "print(\"The number of unique articles that have at least one interaction:\", unique_articles)\n",
    "print(\"The number of unique articles on the IBM platform:\", total_articles)\n",
    "print(\"The number of unique users:\", unique_users)\n",
    "print(\"The number of user-article interactions:\", user_article_interactions)"
   ],
   "metadata": {
    "collapsed": false
   }
  },
  {
   "cell_type": "markdown",
   "source": [
    "`4.` Use the cells below to find the most viewed **article_id**, as well as how often it was viewed.  After talking to the company leaders, the `email_mapper` function was deemed a reasonable way to map users to ids.  There were a small number of null values, and it was found that all of these null values likely belonged to a single user (which is how they are stored using the function below)."
   ],
   "metadata": {
    "collapsed": false
   }
  },
  {
   "cell_type": "code",
   "execution_count": 24,
   "outputs": [],
   "source": [
    "article_views = df[\"article_id\"].value_counts().sort_values(ascending=False)"
   ],
   "metadata": {
    "collapsed": false
   }
  },
  {
   "cell_type": "code",
   "execution_count": 25,
   "outputs": [
    {
     "name": "stdout",
     "output_type": "stream",
     "text": [
      "The most viewed article in the dataset as a string with one value following the decimal: 1429.0\n",
      "The most viewed article in the dataset was viewed how many times?: 937\n"
     ]
    }
   ],
   "source": [
    "most_viewed_article_id =  article_views.index[0].astype(str) # The most viewed article in the dataset as a string with one value following the decimal\n",
    "max_views = article_views.values[0] # The most viewed article in the dataset was viewed how many times?\n",
    "\n",
    "print(\"The most viewed article in the dataset as a string with one value following the decimal:\", most_viewed_article_id)\n",
    "print(\"The most viewed article in the dataset was viewed how many times?:\", max_views)"
   ],
   "metadata": {
    "collapsed": false
   }
  },
  {
   "cell_type": "code",
   "execution_count": 26,
   "outputs": [
    {
     "data": {
      "text/plain": "   article_id                                              title  user_id\n0      1430.0  using pixiedust for fast, flexible, and easier...        1\n1      1314.0       healthcare python streaming application demo        2\n2      1429.0         use deep learning for image classification        3\n3      1338.0          ml optimization using cognitive assistant        4\n4      1276.0          deploy your python model as a restful api        5",
      "text/html": "<div>\n<style scoped>\n    .dataframe tbody tr th:only-of-type {\n        vertical-align: middle;\n    }\n\n    .dataframe tbody tr th {\n        vertical-align: top;\n    }\n\n    .dataframe thead th {\n        text-align: right;\n    }\n</style>\n<table border=\"1\" class=\"dataframe\">\n  <thead>\n    <tr style=\"text-align: right;\">\n      <th></th>\n      <th>article_id</th>\n      <th>title</th>\n      <th>user_id</th>\n    </tr>\n  </thead>\n  <tbody>\n    <tr>\n      <th>0</th>\n      <td>1430.0</td>\n      <td>using pixiedust for fast, flexible, and easier...</td>\n      <td>1</td>\n    </tr>\n    <tr>\n      <th>1</th>\n      <td>1314.0</td>\n      <td>healthcare python streaming application demo</td>\n      <td>2</td>\n    </tr>\n    <tr>\n      <th>2</th>\n      <td>1429.0</td>\n      <td>use deep learning for image classification</td>\n      <td>3</td>\n    </tr>\n    <tr>\n      <th>3</th>\n      <td>1338.0</td>\n      <td>ml optimization using cognitive assistant</td>\n      <td>4</td>\n    </tr>\n    <tr>\n      <th>4</th>\n      <td>1276.0</td>\n      <td>deploy your python model as a restful api</td>\n      <td>5</td>\n    </tr>\n  </tbody>\n</table>\n</div>"
     },
     "execution_count": 26,
     "metadata": {},
     "output_type": "execute_result"
    }
   ],
   "source": [
    "## No need to change the code here - this will be helpful for later parts of the notebook\n",
    "# Run this cell to map the user email to a user_id column and remove the email column\n",
    "\n",
    "def email_mapper():\n",
    "    coded_dict = dict()\n",
    "    cter = 1\n",
    "    email_encoded = []\n",
    "\n",
    "    for val in df['email']:\n",
    "        if val not in coded_dict:\n",
    "            coded_dict[val] = cter\n",
    "            cter+=1\n",
    "\n",
    "        email_encoded.append(coded_dict[val])\n",
    "    return email_encoded\n",
    "\n",
    "email_encoded = email_mapper()\n",
    "del df['email']\n",
    "df['user_id'] = email_encoded\n",
    "\n",
    "# show header\n",
    "df.head()"
   ],
   "metadata": {
    "collapsed": false
   }
  },
  {
   "cell_type": "code",
   "execution_count": 27,
   "outputs": [
    {
     "name": "stdout",
     "output_type": "stream",
     "text": [
      "It looks like you have everything right here! Nice job!\n"
     ]
    }
   ],
   "source": [
    "## If you stored all your results in the variable names above,\n",
    "## you shouldn't need to change anything in this cell\n",
    "\n",
    "sol_1_dict = {\n",
    "    '`50% of individuals have _____ or fewer interactions.`': median_val,\n",
    "    '`The total number of user-article interactions in the dataset is ______.`': user_article_interactions,\n",
    "    '`The maximum number of user-article interactions by any 1 user is ______.`': max_views_by_user,\n",
    "    '`The most viewed article in the dataset was viewed _____ times.`': max_views,\n",
    "    '`The article_id of the most viewed article is ______.`': most_viewed_article_id,\n",
    "    '`The number of unique articles that have at least 1 rating ______.`': unique_articles,\n",
    "    '`The number of unique users in the dataset is ______`': unique_users,\n",
    "    '`The number of unique articles on the IBM platform`': total_articles\n",
    "}\n",
    "\n",
    "# Test your dictionary against the solution\n",
    "t.sol_1_test(sol_1_dict)"
   ],
   "metadata": {
    "collapsed": false
   }
  },
  {
   "cell_type": "markdown",
   "source": [
    "### <a class=\"anchor\" id=\"Rank\">Part II: Rank-Based Recommendations</a>\n",
    "\n",
    "Unlike in the earlier lessons, we don't actually have ratings for whether a user liked an article or not.  We only know that a user has interacted with an article.  In these cases, the popularity of an article can really only be based on how often an article was interacted with.\n",
    "\n",
    "`1.` Fill in the function below to return the **n** top articles ordered with most interactions as the top. Test your function using the tests below."
   ],
   "metadata": {
    "collapsed": false
   }
  },
  {
   "cell_type": "code",
   "execution_count": 28,
   "outputs": [],
   "source": [
    "def get_top_articles(n, df=df):\n",
    "    '''\n",
    "    INPUT:\n",
    "    n - (int) the number of top articles to return\n",
    "    df - (pandas dataframe) df as defined at the top of the notebook\n",
    "\n",
    "    OUTPUT:\n",
    "    top_articles - (list) A list of the top 'n' article titles\n",
    "\n",
    "    '''\n",
    "\n",
    "    top_articles = df[\"title\"].value_counts().sort_values(ascending=False).index.tolist()[:n]\n",
    "\n",
    "    return top_articles # Return the top article titles from df (not df_content)\n",
    "\n",
    "def get_top_article_ids(n, df=df):\n",
    "    '''\n",
    "    INPUT:\n",
    "    n - (int) the number of top articles to return\n",
    "    df - (pandas dataframe) df as defined at the top of the notebook\n",
    "\n",
    "    OUTPUT:\n",
    "    top_articles - (list) A list of the top 'n' article titles\n",
    "\n",
    "    '''\n",
    "\n",
    "    top_articles = df[\"article_id\"].value_counts().sort_values(ascending=False).index.tolist()[:n]\n",
    "\n",
    "    return top_articles # Return the top article ids"
   ],
   "metadata": {
    "collapsed": false
   }
  },
  {
   "cell_type": "code",
   "execution_count": 29,
   "outputs": [
    {
     "name": "stdout",
     "output_type": "stream",
     "text": [
      "['use deep learning for image classification', 'insights from new york car accident reports', 'visualize car data with brunel', 'use xgboost, scikit-learn & ibm watson machine learning apis', 'predicting churn with the spss random tree algorithm', 'healthcare python streaming application demo', 'finding optimal locations of new store using decision optimization', 'apache spark lab, part 1: basic concepts', 'analyze energy consumption in buildings', 'gosales transactions for logistic regression model']\n",
      "[1429.0, 1330.0, 1431.0, 1427.0, 1364.0, 1314.0, 1293.0, 1170.0, 1162.0, 1304.0]\n"
     ]
    }
   ],
   "source": [
    "print(get_top_articles(10))\n",
    "print(get_top_article_ids(10))"
   ],
   "metadata": {
    "collapsed": false
   }
  },
  {
   "cell_type": "code",
   "execution_count": 30,
   "outputs": [
    {
     "name": "stdout",
     "output_type": "stream",
     "text": [
      "Your top_5 looks like the solution list! Nice job.\n",
      "Your top_10 looks like the solution list! Nice job.\n",
      "Your top_20 looks like the solution list! Nice job.\n"
     ]
    }
   ],
   "source": [
    "# Test your function by returning the top 5, 10, and 20 articles\n",
    "top_5 = get_top_articles(5)\n",
    "top_10 = get_top_articles(10)\n",
    "top_20 = get_top_articles(20)\n",
    "\n",
    "# Test each of your three lists from above\n",
    "t.sol_2_test(get_top_articles)"
   ],
   "metadata": {
    "collapsed": false
   }
  },
  {
   "cell_type": "markdown",
   "source": [
    "### <a class=\"anchor\" id=\"User-User\">Part III: User-User Based Collaborative Filtering</a>\n",
    "\n",
    "\n",
    "`1.` Use the function below to reformat the **df** dataframe to be shaped with users as the rows and articles as the columns.\n",
    "\n",
    "* Each **user** should only appear in each **row** once.\n",
    "\n",
    "\n",
    "* Each **article** should only show up in one **column**.\n",
    "\n",
    "\n",
    "* **If a user has interacted with an article, then place a 1 where the user-row meets for that article-column**.  It does not matter how many times a user has interacted with the article, all entries where a user has interacted with an article should be a 1.\n",
    "\n",
    "\n",
    "* **If a user has not interacted with an item, then place a zero where the user-row meets for that article-column**.\n",
    "\n",
    "Use the tests to make sure the basic structure of your matrix matches what is expected by the solution."
   ],
   "metadata": {
    "collapsed": false
   }
  },
  {
   "cell_type": "code",
   "execution_count": 31,
   "outputs": [],
   "source": [
    "# create the user-article matrix with 1's and 0's\n",
    "\n",
    "def create_user_item_matrix(df):\n",
    "    '''\n",
    "    INPUT:\n",
    "    df - pandas dataframe with article_id, title, user_id columns\n",
    "\n",
    "    OUTPUT:\n",
    "    user_item - user item matrix\n",
    "\n",
    "    Description:\n",
    "    Return a matrix with user ids as rows and article ids on the columns with 1 values where a user interacted with\n",
    "    an article and a 0 otherwise\n",
    "    '''\n",
    "\n",
    "    df[\"article_id\"] = df[\"article_id\"].astype(str)\n",
    "    user_item = pd.get_dummies(df[[\"user_id\", \"article_id\"]]).groupby(\"user_id\").max()\n",
    "\n",
    "    return user_item # return the user_item matrix\n",
    "\n",
    "user_item = create_user_item_matrix(df)"
   ],
   "metadata": {
    "collapsed": false
   }
  },
  {
   "cell_type": "code",
   "execution_count": 32,
   "outputs": [
    {
     "name": "stdout",
     "output_type": "stream",
     "text": [
      "You have passed our quick tests!  Please proceed!\n"
     ]
    }
   ],
   "source": [
    "## Tests: You should just need to run this cell.  Don't change the code.\n",
    "assert user_item.shape[0] == 5149, \"Oops!  The number of users in the user-article matrix doesn't look right.\"\n",
    "assert user_item.shape[1] == 714, \"Oops!  The number of articles in the user-article matrix doesn't look right.\"\n",
    "assert user_item.sum(axis=1)[1] == 36, \"Oops!  The number of articles seen by user 1 doesn't look right.\"\n",
    "print(\"You have passed our quick tests!  Please proceed!\")"
   ],
   "metadata": {
    "collapsed": false
   }
  },
  {
   "cell_type": "markdown",
   "source": [
    "`2.` Complete the function below which should take a user_id and provide an ordered list of the most similar users to that user (from most similar to least similar).  The returned result should not contain the provided user_id, as we know that each user is similar to him/herself. Because the results for each user here are binary, it (perhaps) makes sense to compute similarity as the dot product of two users.\n",
    "\n",
    "Use the tests to test your function."
   ],
   "metadata": {
    "collapsed": false
   }
  },
  {
   "cell_type": "code",
   "execution_count": 33,
   "outputs": [],
   "source": [
    "def find_similar_users(user_id, user_item=user_item):\n",
    "    '''\n",
    "    INPUT:\n",
    "    user_id - (int) a user_id\n",
    "    user_item - (pandas dataframe) matrix of users by articles:\n",
    "                1's when a user has interacted with an article, 0 otherwise\n",
    "\n",
    "    OUTPUT:\n",
    "    similar_users - (list) an ordered list where the closest users (largest dot product users)\n",
    "                    are listed first\n",
    "\n",
    "    Description:\n",
    "    Computes the similarity of every pair of users based on the dot product\n",
    "    Returns an ordered\n",
    "\n",
    "    '''\n",
    "    # compute similarity of each user to the provided user\n",
    "    user_similarity = user_item.dot(user_item.loc[user_id]).drop(user_id)\n",
    "\n",
    "    # sort by similarity\n",
    "    user_similarity.sort_values(ascending=False, inplace=True)\n",
    "\n",
    "    # create list of just the ids\n",
    "    most_similar_users = user_similarity.index.tolist()\n",
    "\n",
    "    return most_similar_users # return a list of the users in order from most to least similar"
   ],
   "metadata": {
    "collapsed": false
   }
  },
  {
   "cell_type": "code",
   "execution_count": 34,
   "outputs": [
    {
     "name": "stdout",
     "output_type": "stream",
     "text": [
      "The 10 most similar users to user 1 are: [3933, 23, 3782, 203, 4459, 3870, 131, 46, 4201, 395]\n",
      "The 5 most similar users to user 3933 are: [1, 23, 3782, 4459, 203]\n",
      "The 3 most similar users to user 46 are: [4201, 23, 3782]\n"
     ]
    }
   ],
   "source": [
    "# Do a spot check of your function\n",
    "print(\"The 10 most similar users to user 1 are: {}\".format(find_similar_users(1)[:10]))\n",
    "print(\"The 5 most similar users to user 3933 are: {}\".format(find_similar_users(3933)[:5]))\n",
    "print(\"The 3 most similar users to user 46 are: {}\".format(find_similar_users(46)[:3]))"
   ],
   "metadata": {
    "collapsed": false
   }
  },
  {
   "cell_type": "markdown",
   "source": [
    "`3.` Now that you have a function that provides the most similar users to each user, you will want to use these users to find articles you can recommend.  Complete the functions below to return the articles you would recommend to each user."
   ],
   "metadata": {
    "collapsed": false
   }
  },
  {
   "cell_type": "code",
   "execution_count": 35,
   "outputs": [],
   "source": [
    "def get_article_names(article_ids, df=df):\n",
    "    '''\n",
    "    INPUT:\n",
    "    article_ids - (list) a list of article ids\n",
    "    df - (pandas dataframe) df as defined at the top of the notebook\n",
    "\n",
    "    OUTPUT:\n",
    "    article_names - (list) a list of article names associated with the list of article ids\n",
    "                    (this is identified by the title column)\n",
    "    '''\n",
    "    # Your code here\n",
    "    ids_with_titles = df[[\"article_id\", \"title\"]].drop_duplicates()\n",
    "    article_names = ids_with_titles[ids_with_titles[\"article_id\"].isin(article_ids)][\"title\"].tolist()\n",
    "    return article_names # Return the article names associated with list of article ids\n",
    "\n",
    "\n",
    "def get_user_articles(user_id, user_item=user_item):\n",
    "    '''\n",
    "    INPUT:\n",
    "    user_id - (int) a user id\n",
    "    user_item - (pandas dataframe) matrix of users by articles:\n",
    "                1's when a user has interacted with an article, 0 otherwise\n",
    "\n",
    "    OUTPUT:\n",
    "    article_ids - (list) a list of the article ids seen by the user\n",
    "    article_names - (list) a list of article names associated with the list of article ids\n",
    "                    (this is identified by the doc_full_name column in df_content)\n",
    "\n",
    "    Description:\n",
    "    Provides a list of the article_ids and article titles that have been seen by a user\n",
    "    '''\n",
    "    # Your code here\n",
    "    article_ids = user_item.loc[user_id]\n",
    "    article_ids = article_ids[article_ids == 1].index.str[11:].tolist()\n",
    "    article_names = get_article_names(article_ids)\n",
    "\n",
    "    return article_ids, article_names # return the ids and names\n",
    "\n",
    "\n",
    "def user_user_recs(user_id, m=10):\n",
    "    '''\n",
    "    INPUT:\n",
    "    user_id - (int) a user id\n",
    "    m - (int) the number of recommendations you want for the user\n",
    "\n",
    "    OUTPUT:\n",
    "    recs - (list) a list of recommendations for the user\n",
    "\n",
    "    Description:\n",
    "    Loops through the users based on closeness to the input user_id\n",
    "    For each user - finds articles the user hasn't seen before and provides them as recs\n",
    "    Does this until m recommendations are found\n",
    "\n",
    "    Notes:\n",
    "    Users who are the same closeness are chosen arbitrarily as the 'next' user\n",
    "\n",
    "    For the user where the number of recommended articles starts below m\n",
    "    and ends exceeding m, the last items are chosen arbitrarily\n",
    "\n",
    "    '''\n",
    "    recs = []\n",
    "    neighbours = find_similar_users(user_id, user_item)\n",
    "    movies_user = get_user_articles(user_id)[0]\n",
    "\n",
    "    for neighbour_id in neighbours:\n",
    "\n",
    "        movies_neighbour = get_user_articles(neighbour_id)[0]\n",
    "        new_recommendations = [\n",
    "            movie\n",
    "            for movie in movies_neighbour\n",
    "            if movie not in movies_user + recs\n",
    "        ]\n",
    "        recs.extend(new_recommendations)\n",
    "\n",
    "        if len(recs) >= m:\n",
    "            break\n",
    "\n",
    "    return recs[:m] # return your recommendations for this user_id"
   ],
   "metadata": {
    "collapsed": false
   }
  },
  {
   "cell_type": "code",
   "execution_count": 36,
   "outputs": [
    {
     "name": "stdout",
     "output_type": "stream",
     "text": [
      "If this is all you see, you passed all of our tests!  Nice job!\n"
     ]
    }
   ],
   "source": [
    "# Test your functions here - No need to change this code - just run this cell\n",
    "assert set(get_article_names(['1024.0', '1176.0', '1305.0', '1314.0', '1422.0', '1427.0'])) == set(['using deep learning to reconstruct high-resolution audio', 'build a python app on the streaming analytics service', 'gosales transactions for naive bayes model', 'healthcare python streaming application demo', 'use r dataframes & ibm watson natural language understanding', 'use xgboost, scikit-learn & ibm watson machine learning apis']), \"Oops! Your the get_article_names function doesn't work quite how we expect.\"\n",
    "assert set(get_article_names(['1320.0', '232.0', '844.0'])) == set(['housing (2015): united states demographic measures','self-service data preparation with ibm data refinery','use the cloudant-spark connector in python notebook']), \"Oops! Your the get_article_names function doesn't work quite how we expect.\"\n",
    "assert set(get_user_articles(20)[0]) == set(['1320.0', '232.0', '844.0'])\n",
    "assert set(get_user_articles(20)[1]) == set(['housing (2015): united states demographic measures', 'self-service data preparation with ibm data refinery','use the cloudant-spark connector in python notebook'])\n",
    "assert set(get_user_articles(2)[0]) == set(['1024.0', '1176.0', '1305.0', '1314.0', '1422.0', '1427.0'])\n",
    "assert set(get_user_articles(2)[1]) == set(['using deep learning to reconstruct high-resolution audio', 'build a python app on the streaming analytics service', 'gosales transactions for naive bayes model', 'healthcare python streaming application demo', 'use r dataframes & ibm watson natural language understanding', 'use xgboost, scikit-learn & ibm watson machine learning apis'])\n",
    "print(\"If this is all you see, you passed all of our tests!  Nice job!\")"
   ],
   "metadata": {
    "collapsed": false
   }
  },
  {
   "cell_type": "markdown",
   "source": [
    "`4.` Now we are going to improve the consistency of the **user_user_recs** function from above.\n",
    "\n",
    "* Instead of arbitrarily choosing when we obtain users who are all the same closeness to a given user - choose the users that have the most total article interactions before choosing those with fewer article interactions.\n",
    "\n",
    "\n",
    "* Instead of arbitrarily choosing articles from the user where the number of recommended articles starts below m and ends exceeding m, choose articles with the articles with the most total interactions before choosing those with fewer total interactions. This ranking should be  what would be obtained from the **top_articles** function you wrote earlier."
   ],
   "metadata": {
    "collapsed": false
   }
  },
  {
   "cell_type": "code",
   "execution_count": 37,
   "outputs": [],
   "source": [
    "def get_top_sorted_users(user_id, df=df, user_item=user_item):\n",
    "    '''\n",
    "    INPUT:\n",
    "    user_id - (int)\n",
    "    df - (pandas dataframe) df as defined at the top of the notebook\n",
    "    user_item - (pandas dataframe) matrix of users by articles:\n",
    "            1's when a user has interacted with an article, 0 otherwise\n",
    "\n",
    "\n",
    "    OUTPUT:\n",
    "    neighbors_df - (pandas dataframe) a dataframe with:\n",
    "                    neighbor_id - is a neighbor user_id\n",
    "                    similarity - measure of the similarity of each user to the provided user_id\n",
    "                    num_interactions - the number of articles viewed by the user - if a u\n",
    "\n",
    "    Other Details - sort the neighbors_df by the similarity and then by number of interactions where\n",
    "                    highest of each is higher in the dataframe\n",
    "\n",
    "    '''\n",
    "    user_similarity = user_item.dot(user_item.loc[user_id]).drop(user_id)\n",
    "\n",
    "    user_similarity.rename(\"similarity\", axis=\"columns\", inplace=True)\n",
    "\n",
    "\n",
    "    user_interactions = user_item.sum(axis=1).drop(user_id)\n",
    "    user_interactions.rename(\"num_interactions\", axis=\"columns\", inplace=True)\n",
    "\n",
    "    # Combine similarity and interactions\n",
    "    neighbors_df = pd.concat([user_similarity, user_interactions], axis=1)\n",
    "\n",
    "    # Sort by similarity and interactions\n",
    "    neighbors_df.sort_values(by=[\"similarity\", \"num_interactions\"], ascending=False, inplace=True)\n",
    "\n",
    "    # Rename index\n",
    "    neighbors_df.index.rename(\"neighbor_id\", inplace=True)\n",
    "\n",
    "    return neighbors_df # Return the dataframe specified in the doc_string\n",
    "\n",
    "\n",
    "def user_user_recs_part2(user_id, m=10):\n",
    "    '''\n",
    "    INPUT:\n",
    "    user_id - (int) a user id\n",
    "    m - (int) the number of recommendations you want for the user\n",
    "\n",
    "    OUTPUT:\n",
    "    recs - (list) a list of recommendations for the user by article id\n",
    "    rec_names - (list) a list of recommendations for the user by article title\n",
    "\n",
    "    Description:\n",
    "    Loops through the users based on closeness to the input user_id\n",
    "    For each user - finds articles the user hasn't seen before and provides them as recs\n",
    "    Does this until m recommendations are found\n",
    "\n",
    "    Notes:\n",
    "    * Choose the users that have the most total article interactions\n",
    "    before choosing those with fewer article interactions.\n",
    "\n",
    "    * Choose articles with the articles with the most total interactions\n",
    "    before choosing those with fewer total interactions.\n",
    "\n",
    "    '''\n",
    "    neighbors_df = get_top_sorted_users(user_id)\n",
    "    recs = []\n",
    "    movies_user = get_user_articles(user_id)[0]\n",
    "\n",
    "    for neighbor_id in neighbors_df.index:\n",
    "\n",
    "        movies_neighbour = get_user_articles(neighbor_id)[0]\n",
    "\n",
    "        # Chose movies with most total interactions\n",
    "        ###\n",
    "\n",
    "        new_recommendations = [\n",
    "            movie\n",
    "            for movie in movies_neighbour\n",
    "            if movie not in movies_user + recs\n",
    "        ]\n",
    "        recs.extend(new_recommendations)\n",
    "\n",
    "        if len(recs) >= m:\n",
    "            break\n",
    "\n",
    "    # return recs[:m]\n",
    "\n",
    "    return recs, rec_names"
   ],
   "metadata": {
    "collapsed": false
   }
  },
  {
   "cell_type": "code",
   "execution_count": 38,
   "outputs": [
    {
     "ename": "ValueError",
     "evalue": "No axis named columns for object type Series",
     "output_type": "error",
     "traceback": [
      "\u001B[0;31m---------------------------------------------------------------------------\u001B[0m",
      "\u001B[0;31mKeyError\u001B[0m                                  Traceback (most recent call last)",
      "File \u001B[0;32m~/PycharmProjects/recommendations/venv/lib/python3.11/site-packages/pandas/core/generic.py:554\u001B[0m, in \u001B[0;36mNDFrame._get_axis_number\u001B[0;34m(cls, axis)\u001B[0m\n\u001B[1;32m    553\u001B[0m \u001B[38;5;28;01mtry\u001B[39;00m:\n\u001B[0;32m--> 554\u001B[0m     \u001B[38;5;28;01mreturn\u001B[39;00m \u001B[38;5;28;43mcls\u001B[39;49m\u001B[38;5;241;43m.\u001B[39;49m\u001B[43m_AXIS_TO_AXIS_NUMBER\u001B[49m\u001B[43m[\u001B[49m\u001B[43maxis\u001B[49m\u001B[43m]\u001B[49m\n\u001B[1;32m    555\u001B[0m \u001B[38;5;28;01mexcept\u001B[39;00m \u001B[38;5;167;01mKeyError\u001B[39;00m:\n",
      "\u001B[0;31mKeyError\u001B[0m: 'columns'",
      "\nDuring handling of the above exception, another exception occurred:\n",
      "\u001B[0;31mValueError\u001B[0m                                Traceback (most recent call last)",
      "Cell \u001B[0;32mIn [38], line 1\u001B[0m\n\u001B[0;32m----> 1\u001B[0m neighbors_df \u001B[38;5;241m=\u001B[39m \u001B[43mget_top_sorted_users\u001B[49m\u001B[43m(\u001B[49m\u001B[38;5;241;43m1\u001B[39;49m\u001B[43m)\u001B[49m\n\u001B[1;32m      3\u001B[0m \u001B[38;5;28;01mfor\u001B[39;00m neighbor_id \u001B[38;5;129;01min\u001B[39;00m neighbors_df\u001B[38;5;241m.\u001B[39mindex:\n\u001B[1;32m      4\u001B[0m     \u001B[38;5;28mprint\u001B[39m(neighbor_id)\n",
      "Cell \u001B[0;32mIn [37], line 22\u001B[0m, in \u001B[0;36mget_top_sorted_users\u001B[0;34m(user_id, df, user_item)\u001B[0m\n\u001B[1;32m      2\u001B[0m \u001B[38;5;124;03m'''\u001B[39;00m\n\u001B[1;32m      3\u001B[0m \u001B[38;5;124;03mINPUT:\u001B[39;00m\n\u001B[1;32m      4\u001B[0m \u001B[38;5;124;03muser_id - (int)\u001B[39;00m\n\u001B[0;32m   (...)\u001B[0m\n\u001B[1;32m     18\u001B[0m \n\u001B[1;32m     19\u001B[0m \u001B[38;5;124;03m'''\u001B[39;00m\n\u001B[1;32m     20\u001B[0m user_similarity \u001B[38;5;241m=\u001B[39m user_item\u001B[38;5;241m.\u001B[39mdot(user_item\u001B[38;5;241m.\u001B[39mloc[user_id])\u001B[38;5;241m.\u001B[39mdrop(user_id)\n\u001B[0;32m---> 22\u001B[0m \u001B[43muser_similarity\u001B[49m\u001B[38;5;241;43m.\u001B[39;49m\u001B[43mrename\u001B[49m\u001B[43m(\u001B[49m\u001B[38;5;124;43m\"\u001B[39;49m\u001B[38;5;124;43msimilarity\u001B[39;49m\u001B[38;5;124;43m\"\u001B[39;49m\u001B[43m,\u001B[49m\u001B[43m \u001B[49m\u001B[43maxis\u001B[49m\u001B[38;5;241;43m=\u001B[39;49m\u001B[38;5;124;43m\"\u001B[39;49m\u001B[38;5;124;43mcolumns\u001B[39;49m\u001B[38;5;124;43m\"\u001B[39;49m\u001B[43m,\u001B[49m\u001B[43m \u001B[49m\u001B[43minplace\u001B[49m\u001B[38;5;241;43m=\u001B[39;49m\u001B[38;5;28;43;01mTrue\u001B[39;49;00m\u001B[43m)\u001B[49m\n\u001B[1;32m     25\u001B[0m user_interactions \u001B[38;5;241m=\u001B[39m user_item\u001B[38;5;241m.\u001B[39msum(axis\u001B[38;5;241m=\u001B[39m\u001B[38;5;241m1\u001B[39m)\u001B[38;5;241m.\u001B[39mdrop(user_id)\n\u001B[1;32m     26\u001B[0m user_interactions\u001B[38;5;241m.\u001B[39mrename(\u001B[38;5;124m\"\u001B[39m\u001B[38;5;124mnum_interactions\u001B[39m\u001B[38;5;124m\"\u001B[39m, axis\u001B[38;5;241m=\u001B[39m\u001B[38;5;124m\"\u001B[39m\u001B[38;5;124mcolumns\u001B[39m\u001B[38;5;124m\"\u001B[39m, inplace\u001B[38;5;241m=\u001B[39m\u001B[38;5;28;01mTrue\u001B[39;00m)\n",
      "File \u001B[0;32m~/PycharmProjects/recommendations/venv/lib/python3.11/site-packages/pandas/core/series.py:4990\u001B[0m, in \u001B[0;36mSeries.rename\u001B[0;34m(self, index, axis, copy, inplace, level, errors)\u001B[0m\n\u001B[1;32m   4923\u001B[0m \u001B[38;5;124;03m\"\"\"\u001B[39;00m\n\u001B[1;32m   4924\u001B[0m \u001B[38;5;124;03mAlter Series index labels or name.\u001B[39;00m\n\u001B[1;32m   4925\u001B[0m \n\u001B[0;32m   (...)\u001B[0m\n\u001B[1;32m   4986\u001B[0m \u001B[38;5;124;03mdtype: int64\u001B[39;00m\n\u001B[1;32m   4987\u001B[0m \u001B[38;5;124;03m\"\"\"\u001B[39;00m\n\u001B[1;32m   4988\u001B[0m \u001B[38;5;28;01mif\u001B[39;00m axis \u001B[38;5;129;01mis\u001B[39;00m \u001B[38;5;129;01mnot\u001B[39;00m \u001B[38;5;28;01mNone\u001B[39;00m:\n\u001B[1;32m   4989\u001B[0m     \u001B[38;5;66;03m# Make sure we raise if an invalid 'axis' is passed.\u001B[39;00m\n\u001B[0;32m-> 4990\u001B[0m     axis \u001B[38;5;241m=\u001B[39m \u001B[38;5;28;43mself\u001B[39;49m\u001B[38;5;241;43m.\u001B[39;49m\u001B[43m_get_axis_number\u001B[49m\u001B[43m(\u001B[49m\u001B[43maxis\u001B[49m\u001B[43m)\u001B[49m\n\u001B[1;32m   4992\u001B[0m \u001B[38;5;28;01mif\u001B[39;00m callable(index) \u001B[38;5;129;01mor\u001B[39;00m is_dict_like(index):\n\u001B[1;32m   4993\u001B[0m     \u001B[38;5;66;03m# error: Argument 1 to \"_rename\" of \"NDFrame\" has incompatible\u001B[39;00m\n\u001B[1;32m   4994\u001B[0m     \u001B[38;5;66;03m# type \"Union[Union[Mapping[Any, Hashable], Callable[[Any],\u001B[39;00m\n\u001B[1;32m   4995\u001B[0m     \u001B[38;5;66;03m# Hashable]], Hashable, None]\"; expected \"Union[Mapping[Any,\u001B[39;00m\n\u001B[1;32m   4996\u001B[0m     \u001B[38;5;66;03m# Hashable], Callable[[Any], Hashable], None]\"\u001B[39;00m\n\u001B[1;32m   4997\u001B[0m     \u001B[38;5;28;01mreturn\u001B[39;00m \u001B[38;5;28msuper\u001B[39m()\u001B[38;5;241m.\u001B[39m_rename(\n\u001B[1;32m   4998\u001B[0m         index,  \u001B[38;5;66;03m# type: ignore[arg-type]\u001B[39;00m\n\u001B[1;32m   4999\u001B[0m         copy\u001B[38;5;241m=\u001B[39mcopy,\n\u001B[0;32m   (...)\u001B[0m\n\u001B[1;32m   5002\u001B[0m         errors\u001B[38;5;241m=\u001B[39merrors,\n\u001B[1;32m   5003\u001B[0m     )\n",
      "File \u001B[0;32m~/PycharmProjects/recommendations/venv/lib/python3.11/site-packages/pandas/core/generic.py:556\u001B[0m, in \u001B[0;36mNDFrame._get_axis_number\u001B[0;34m(cls, axis)\u001B[0m\n\u001B[1;32m    554\u001B[0m     \u001B[38;5;28;01mreturn\u001B[39;00m \u001B[38;5;28mcls\u001B[39m\u001B[38;5;241m.\u001B[39m_AXIS_TO_AXIS_NUMBER[axis]\n\u001B[1;32m    555\u001B[0m \u001B[38;5;28;01mexcept\u001B[39;00m \u001B[38;5;167;01mKeyError\u001B[39;00m:\n\u001B[0;32m--> 556\u001B[0m     \u001B[38;5;28;01mraise\u001B[39;00m \u001B[38;5;167;01mValueError\u001B[39;00m(\u001B[38;5;124mf\u001B[39m\u001B[38;5;124m\"\u001B[39m\u001B[38;5;124mNo axis named \u001B[39m\u001B[38;5;132;01m{\u001B[39;00maxis\u001B[38;5;132;01m}\u001B[39;00m\u001B[38;5;124m for object type \u001B[39m\u001B[38;5;132;01m{\u001B[39;00m\u001B[38;5;28mcls\u001B[39m\u001B[38;5;241m.\u001B[39m\u001B[38;5;18m__name__\u001B[39m\u001B[38;5;132;01m}\u001B[39;00m\u001B[38;5;124m\"\u001B[39m)\n",
      "\u001B[0;31mValueError\u001B[0m: No axis named columns for object type Series"
     ]
    }
   ],
   "source": [
    "neighbors_df = get_top_sorted_users(1)\n",
    "\n",
    "for neighbor_id in neighbors_df.index:\n",
    "    print(neighbor_id)"
   ],
   "metadata": {
    "collapsed": false
   }
  },
  {
   "cell_type": "code",
   "execution_count": null,
   "outputs": [],
   "source": [
    "# Quick spot check - don't change this code - just use it to test your functions\n",
    "rec_ids, rec_names = user_user_recs_part2(20, 10)\n",
    "print(\"The top 10 recommendations for user 20 are the following article ids:\")\n",
    "print(rec_ids)\n",
    "print()\n",
    "print(\"The top 10 recommendations for user 20 are the following article names:\")\n",
    "print(rec_names)"
   ],
   "metadata": {
    "collapsed": false
   }
  },
  {
   "cell_type": "markdown",
   "source": [
    "`5.` Use your functions from above to correctly fill in the solutions to the dictionary below.  Then test your dictionary against the solution.  Provide the code you need to answer each following the comments below."
   ],
   "metadata": {
    "collapsed": false
   }
  },
  {
   "cell_type": "code",
   "execution_count": null,
   "outputs": [],
   "source": [
    "### Tests with a dictionary of results\n",
    "\n",
    "user1_most_sim = # Find the user that is most similar to user 1\n",
    "user131_10th_sim = # Find the 10th most similar user to user 131"
   ],
   "metadata": {
    "collapsed": false
   }
  },
  {
   "cell_type": "code",
   "execution_count": null,
   "outputs": [],
   "source": [
    "## Dictionary Test Here\n",
    "sol_5_dict = {\n",
    "    'The user that is most similar to user 1.': user1_most_sim,\n",
    "    'The user that is the 10th most similar to user 131': user131_10th_sim,\n",
    "}\n",
    "\n",
    "t.sol_5_test(sol_5_dict)"
   ],
   "metadata": {
    "collapsed": false
   }
  },
  {
   "cell_type": "markdown",
   "source": [
    "`6.` If we were given a new user, which of the above functions would you be able to use to make recommendations?  Explain.  Can you think of a better way we might make recommendations?  Use the cell below to explain a better method for new users."
   ],
   "metadata": {
    "collapsed": false
   }
  },
  {
   "cell_type": "markdown",
   "source": [
    "**Provide your response here.**"
   ],
   "metadata": {
    "collapsed": false
   }
  },
  {
   "cell_type": "markdown",
   "source": [
    "`7.` Using your existing functions, provide the top 10 recommended articles you would provide for the a new user below.  You can test your function against our thoughts to make sure we are all on the same page with how we might make a recommendation."
   ],
   "metadata": {
    "collapsed": false
   }
  },
  {
   "cell_type": "code",
   "execution_count": null,
   "outputs": [],
   "source": [
    "new_user = '0.0'\n",
    "\n",
    "# What would your recommendations be for this new user '0.0'?  As a new user, they have no observed articles.\n",
    "# Provide a list of the top 10 article ids you would give to\n",
    "new_user_recs = # Your recommendations here\n",
    "\n"
   ],
   "metadata": {
    "collapsed": false
   }
  },
  {
   "cell_type": "code",
   "execution_count": null,
   "outputs": [],
   "source": [
    "assert set(new_user_recs) == set(['1314.0','1429.0','1293.0','1427.0','1162.0','1364.0','1304.0','1170.0','1431.0','1330.0']), \"Oops!  It makes sense that in this case we would want to recommend the most popular articles, because we don't know anything about these users.\"\n",
    "\n",
    "print(\"That's right!  Nice job!\")"
   ],
   "metadata": {
    "collapsed": false
   }
  },
  {
   "cell_type": "markdown",
   "source": [
    "### <a class=\"anchor\" id=\"Content-Recs\">Part IV: Content Based Recommendations (EXTRA - NOT REQUIRED)</a>\n",
    "\n",
    "Another method we might use to make recommendations is to perform a ranking of the highest ranked articles associated with some term.  You might consider content to be the **doc_body**, **doc_description**, or **doc_full_name**.  There isn't one way to create a content based recommendation, especially considering that each of these columns hold content related information.\n",
    "\n",
    "`1.` Use the function body below to create a content based recommender.  Since there isn't one right answer for this recommendation tactic, no test functions are provided.  Feel free to change the function inputs if you decide you want to try a method that requires more input values.  The input values are currently set with one idea in mind that you may use to make content based recommendations.  One additional idea is that you might want to choose the most popular recommendations that meet your 'content criteria', but again, there is a lot of flexibility in how you might make these recommendations.\n",
    "\n",
    "### This part is NOT REQUIRED to pass this project.  However, you may choose to take this on as an extra way to show off your skills."
   ],
   "metadata": {
    "collapsed": false
   }
  },
  {
   "cell_type": "code",
   "execution_count": null,
   "outputs": [],
   "source": [
    "def make_content_recs():\n",
    "    '''\n",
    "    INPUT:\n",
    "\n",
    "    OUTPUT:\n",
    "\n",
    "    '''"
   ],
   "metadata": {
    "collapsed": false
   }
  },
  {
   "cell_type": "markdown",
   "source": [
    "`2.` Now that you have put together your content-based recommendation system, use the cell below to write a summary explaining how your content based recommender works.  Do you see any possible improvements that could be made to your function?  Is there anything novel about your content based recommender?\n",
    "\n",
    "### This part is NOT REQUIRED to pass this project.  However, you may choose to take this on as an extra way to show off your skills."
   ],
   "metadata": {
    "collapsed": false
   }
  },
  {
   "cell_type": "markdown",
   "source": [
    "**Write an explanation of your content based recommendation system here.**"
   ],
   "metadata": {
    "collapsed": false
   }
  },
  {
   "cell_type": "markdown",
   "source": [
    "`3.` Use your content-recommendation system to make recommendations for the below scenarios based on the comments.  Again no tests are provided here, because there isn't one right answer that could be used to find these content based recommendations.\n",
    "\n",
    "### This part is NOT REQUIRED to pass this project.  However, you may choose to take this on as an extra way to show off your skills."
   ],
   "metadata": {
    "collapsed": false
   }
  },
  {
   "cell_type": "code",
   "execution_count": null,
   "outputs": [],
   "source": [
    "# make recommendations for a brand new user\n",
    "\n",
    "\n",
    "# make a recommendations for a user who only has interacted with article id '1427.0'\n",
    "\n"
   ],
   "metadata": {
    "collapsed": false
   }
  },
  {
   "cell_type": "markdown",
   "source": [
    "### <a class=\"anchor\" id=\"Matrix-Fact\">Part V: Matrix Factorization</a>\n",
    "\n",
    "In this part of the notebook, you will build use matrix factorization to make article recommendations to the users on the IBM Watson Studio platform.\n",
    "\n",
    "`1.` You should have already created a **user_item** matrix above in **question 1** of **Part III** above.  This first question here will just require that you run the cells to get things set up for the rest of **Part V** of the notebook."
   ],
   "metadata": {
    "collapsed": false
   }
  },
  {
   "cell_type": "code",
   "execution_count": null,
   "outputs": [],
   "source": [
    "# Load the matrix here\n",
    "user_item_matrix = pd.read_pickle('user_item_matrix.p')"
   ],
   "metadata": {
    "collapsed": false
   }
  },
  {
   "cell_type": "code",
   "execution_count": null,
   "outputs": [],
   "source": [
    "# quick look at the matrix\n",
    "user_item_matrix.head()"
   ],
   "metadata": {
    "collapsed": false
   }
  },
  {
   "cell_type": "markdown",
   "source": [
    "`2.` In this situation, you can use Singular Value Decomposition from [numpy](https://docs.scipy.org/doc/numpy-1.14.0/reference/generated/numpy.linalg.svd.html) on the user-item matrix.  Use the cell to perform SVD, and explain why this is different than in the lesson."
   ],
   "metadata": {
    "collapsed": false
   }
  },
  {
   "cell_type": "code",
   "execution_count": null,
   "outputs": [],
   "source": [
    "# Perform SVD on the User-Item Matrix Here\n",
    "\n",
    "u, s, vt = # use the built in to get the three matrices"
   ],
   "metadata": {
    "collapsed": false
   }
  },
  {
   "cell_type": "markdown",
   "source": [
    "**Provide your response here.**"
   ],
   "metadata": {
    "collapsed": false
   }
  },
  {
   "cell_type": "markdown",
   "source": [
    "`3.` Now for the tricky part, how do we choose the number of latent features to use?  Running the below cell, you can see that as the number of latent features increases, we obtain a lower error rate on making predictions for the 1 and 0 values in the user-item matrix.  Run the cell below to get an idea of how the accuracy improves as we increase the number of latent features."
   ],
   "metadata": {
    "collapsed": false
   }
  },
  {
   "cell_type": "code",
   "execution_count": null,
   "outputs": [],
   "source": [
    "num_latent_feats = np.arange(10,700+10,20)\n",
    "sum_errs = []\n",
    "\n",
    "for k in num_latent_feats:\n",
    "    # restructure with k latent features\n",
    "    s_new, u_new, vt_new = np.diag(s[:k]), u[:, :k], vt[:k, :]\n",
    "\n",
    "    # take dot product\n",
    "    user_item_est = np.around(np.dot(np.dot(u_new, s_new), vt_new))\n",
    "\n",
    "    # compute error for each prediction to actual value\n",
    "    diffs = np.subtract(user_item_matrix, user_item_est)\n",
    "\n",
    "    # total errors and keep track of them\n",
    "    err = np.sum(np.sum(np.abs(diffs)))\n",
    "    sum_errs.append(err)\n",
    "\n",
    "\n",
    "plt.plot(num_latent_feats, 1 - np.array(sum_errs)/df.shape[0]);\n",
    "plt.xlabel('Number of Latent Features');\n",
    "plt.ylabel('Accuracy');\n",
    "plt.title('Accuracy vs. Number of Latent Features');"
   ],
   "metadata": {
    "collapsed": false
   }
  },
  {
   "cell_type": "markdown",
   "source": [
    "`4.` From the above, we can't really be sure how many features to use, because simply having a better way to predict the 1's and 0's of the matrix doesn't exactly give us an indication of if we are able to make good recommendations.  Instead, we might split our dataset into a training and test set of data, as shown in the cell below.\n",
    "\n",
    "Use the code from question 3 to understand the impact on accuracy of the training and test sets of data with different numbers of latent features. Using the split below:\n",
    "\n",
    "* How many users can we make predictions for in the test set?\n",
    "* How many users are we not able to make predictions for because of the cold start problem?\n",
    "* How many articles can we make predictions for in the test set?\n",
    "* How many articles are we not able to make predictions for because of the cold start problem?"
   ],
   "metadata": {
    "collapsed": false
   }
  },
  {
   "cell_type": "code",
   "execution_count": null,
   "outputs": [],
   "source": [
    "df_train = df.head(40000)\n",
    "df_test = df.tail(5993)\n",
    "\n",
    "def create_test_and_train_user_item(df_train, df_test):\n",
    "    '''\n",
    "    INPUT:\n",
    "    df_train - training dataframe\n",
    "    df_test - test dataframe\n",
    "\n",
    "    OUTPUT:\n",
    "    user_item_train - a user-item matrix of the training dataframe\n",
    "                      (unique users for each row and unique articles for each column)\n",
    "    user_item_test - a user-item matrix of the testing dataframe\n",
    "                    (unique users for each row and unique articles for each column)\n",
    "    test_idx - all of the test user ids\n",
    "    test_arts - all of the test article ids\n",
    "\n",
    "    '''\n",
    "    # Your code here\n",
    "\n",
    "    return user_item_train, user_item_test, test_idx, test_arts\n",
    "\n",
    "user_item_train, user_item_test, test_idx, test_arts = create_test_and_train_user_item(df_train, df_test)"
   ],
   "metadata": {
    "collapsed": false
   }
  },
  {
   "cell_type": "code",
   "execution_count": null,
   "outputs": [],
   "source": [
    "# Replace the values in the dictionary below\n",
    "a = 662\n",
    "b = 574\n",
    "c = 20\n",
    "d = 0\n",
    "\n",
    "\n",
    "sol_4_dict = {\n",
    "    'How many users can we make predictions for in the test set?': # letter here,\n",
    "    'How many users in the test set are we not able to make predictions for because of the cold start problem?': # letter here,\n",
    "    'How many articles can we make predictions for in the test set?': # letter here,\n",
    "    'How many articles in the test set are we not able to make predictions for because of the cold start problem?': # letter here\n",
    "}\n",
    "\n",
    "t.sol_4_test(sol_4_dict)"
   ],
   "metadata": {
    "collapsed": false
   }
  },
  {
   "cell_type": "markdown",
   "source": [
    "`5.` Now use the **user_item_train** dataset from above to find U, S, and V transpose using SVD. Then find the subset of rows in the **user_item_test** dataset that you can predict using this matrix decomposition with different numbers of latent features to see how many features makes sense to keep based on the accuracy on the test data. This will require combining what was done in questions `2` - `4`.\n",
    "\n",
    "Use the cells below to explore how well SVD works towards making predictions for recommendations on the test data."
   ],
   "metadata": {
    "collapsed": false
   }
  },
  {
   "cell_type": "code",
   "execution_count": null,
   "outputs": [],
   "source": [
    "# fit SVD on the user_item_train matrix\n",
    "u_train, s_train, vt_train = # fit svd similar to above then use the cells below"
   ],
   "metadata": {
    "collapsed": false
   }
  },
  {
   "cell_type": "code",
   "execution_count": null,
   "outputs": [],
   "source": [
    "# Use these cells to see how well you can use the training\n",
    "# decomposition to predict on test data"
   ],
   "metadata": {
    "collapsed": false
   }
  },
  {
   "cell_type": "code",
   "execution_count": null,
   "outputs": [],
   "source": [],
   "metadata": {
    "collapsed": false
   }
  },
  {
   "cell_type": "code",
   "execution_count": null,
   "outputs": [],
   "source": [],
   "metadata": {
    "collapsed": false
   }
  },
  {
   "cell_type": "markdown",
   "source": [
    "`6.` Use the cell below to comment on the results you found in the previous question. Given the circumstances of your results, discuss what you might do to determine if the recommendations you make with any of the above recommendation systems are an improvement to how users currently find articles?"
   ],
   "metadata": {
    "collapsed": false
   }
  },
  {
   "cell_type": "markdown",
   "source": [
    "**Your response here.**"
   ],
   "metadata": {
    "collapsed": false
   }
  },
  {
   "cell_type": "markdown",
   "source": [
    "<a id='conclusions'></a>\n",
    "### Extras\n",
    "Using your workbook, you could now save your recommendations for each user, develop a class to make new predictions and update your results, and make a flask app to deploy your results.  These tasks are beyond what is required for this project.  However, from what you learned in the lessons, you certainly capable of taking these tasks on to improve upon your work here!\n",
    "\n",
    "\n",
    "## Conclusion\n",
    "\n",
    "> Congratulations!  You have reached the end of the Recommendations with IBM project!\n",
    "\n",
    "> **Tip**: Once you are satisfied with your work here, check over your report to make sure that it is satisfies all the areas of the [rubric](https://review.udacity.com/#!/rubrics/2322/view). You should also probably remove all of the \"Tips\" like this one so that the presentation is as polished as possible.\n",
    "\n",
    "\n",
    "## Directions to Submit\n",
    "\n",
    "> Before you submit your project, you need to create a .html or .pdf version of this notebook in the workspace here. To do that, run the code cell below. If it worked correctly, you should get a return code of 0, and you should see the generated .html file in the workspace directory (click on the orange Jupyter icon in the upper left).\n",
    "\n",
    "> Alternatively, you can download this report as .html via the **File** > **Download as** submenu, and then manually upload it into the workspace directory by clicking on the orange Jupyter icon in the upper left, then using the Upload button.\n",
    "\n",
    "> Once you've done this, you can submit your project by clicking on the \"Submit Project\" button in the lower right here. This will create and submit a zip file with this .ipynb doc and the .html or .pdf version you created. Congratulations!"
   ],
   "metadata": {
    "collapsed": false
   }
  },
  {
   "cell_type": "code",
   "execution_count": null,
   "outputs": [],
   "source": [
    "from subprocess import call\n",
    "call(['python', '-m', 'nbconvert', 'Recommendations_with_IBM.ipynb'])"
   ],
   "metadata": {
    "collapsed": false
   }
  }
 ],
 "metadata": {
  "kernelspec": {
   "display_name": "Python 3",
   "language": "python",
   "name": "python3"
  },
  "language_info": {
   "codemirror_mode": {
    "name": "ipython",
    "version": 2
   },
   "file_extension": ".py",
   "mimetype": "text/x-python",
   "name": "python",
   "nbconvert_exporter": "python",
   "pygments_lexer": "ipython2",
   "version": "2.7.6"
  }
 },
 "nbformat": 4,
 "nbformat_minor": 0
}
